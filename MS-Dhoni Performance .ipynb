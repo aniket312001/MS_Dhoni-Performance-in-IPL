{
 "cells": [
  {
   "cell_type": "code",
   "execution_count": 1,
   "metadata": {},
   "outputs": [],
   "source": [
    "import pandas as pd\n",
    "import numpy as np\n",
    "import seaborn as sns\n",
    "import matplotlib.pyplot as plt"
   ]
  },
  {
   "cell_type": "code",
   "execution_count": 2,
   "metadata": {},
   "outputs": [
    {
     "data": {
      "text/html": [
       "<div>\n",
       "<style scoped>\n",
       "    .dataframe tbody tr th:only-of-type {\n",
       "        vertical-align: middle;\n",
       "    }\n",
       "\n",
       "    .dataframe tbody tr th {\n",
       "        vertical-align: top;\n",
       "    }\n",
       "\n",
       "    .dataframe thead th {\n",
       "        text-align: right;\n",
       "    }\n",
       "</style>\n",
       "<table border=\"1\" class=\"dataframe\">\n",
       "  <thead>\n",
       "    <tr style=\"text-align: right;\">\n",
       "      <th></th>\n",
       "      <th>Rank</th>\n",
       "      <th>Player</th>\n",
       "      <th>Team</th>\n",
       "      <th>RAA</th>\n",
       "      <th>Wins</th>\n",
       "      <th>EFscore</th>\n",
       "      <th>Salary</th>\n",
       "      <th>Value</th>\n",
       "    </tr>\n",
       "  </thead>\n",
       "  <tbody>\n",
       "    <tr>\n",
       "      <th>0</th>\n",
       "      <td>1</td>\n",
       "      <td>SE Marsh</td>\n",
       "      <td>Kings XI Punjab</td>\n",
       "      <td>377</td>\n",
       "      <td>1.355</td>\n",
       "      <td>0.231</td>\n",
       "      <td>NaN</td>\n",
       "      <td>$1,270,355</td>\n",
       "    </tr>\n",
       "    <tr>\n",
       "      <th>1</th>\n",
       "      <td>2</td>\n",
       "      <td>SR Watson</td>\n",
       "      <td>Rajasthan Royals</td>\n",
       "      <td>347</td>\n",
       "      <td>1.250</td>\n",
       "      <td>0.297</td>\n",
       "      <td>$125,000</td>\n",
       "      <td>$1,209,660</td>\n",
       "    </tr>\n",
       "    <tr>\n",
       "      <th>2</th>\n",
       "      <td>3</td>\n",
       "      <td>Sohail Tanvir</td>\n",
       "      <td>Rajasthan Royals</td>\n",
       "      <td>294</td>\n",
       "      <td>1.059</td>\n",
       "      <td>0.194</td>\n",
       "      <td>NaN</td>\n",
       "      <td>$1,099,252</td>\n",
       "    </tr>\n",
       "    <tr>\n",
       "      <th>3</th>\n",
       "      <td>4</td>\n",
       "      <td>G Gambhir</td>\n",
       "      <td>Delhi Daredevils</td>\n",
       "      <td>216</td>\n",
       "      <td>0.776</td>\n",
       "      <td>0.160</td>\n",
       "      <td>$725,000</td>\n",
       "      <td>$935,664</td>\n",
       "    </tr>\n",
       "    <tr>\n",
       "      <th>4</th>\n",
       "      <td>5</td>\n",
       "      <td>GC Smith</td>\n",
       "      <td>Rajasthan Royals</td>\n",
       "      <td>202</td>\n",
       "      <td>0.725</td>\n",
       "      <td>0.139</td>\n",
       "      <td>$250,000</td>\n",
       "      <td>$906,183</td>\n",
       "    </tr>\n",
       "  </tbody>\n",
       "</table>\n",
       "</div>"
      ],
      "text/plain": [
       "   Rank         Player              Team  RAA   Wins  EFscore    Salary  \\\n",
       "0     1       SE Marsh   Kings XI Punjab  377  1.355    0.231       NaN   \n",
       "1     2      SR Watson  Rajasthan Royals  347  1.250    0.297  $125,000   \n",
       "2     3  Sohail Tanvir  Rajasthan Royals  294  1.059    0.194       NaN   \n",
       "3     4      G Gambhir  Delhi Daredevils  216  0.776    0.160  $725,000   \n",
       "4     5       GC Smith  Rajasthan Royals  202  0.725    0.139  $250,000   \n",
       "\n",
       "        Value  \n",
       "0  $1,270,355  \n",
       "1  $1,209,660  \n",
       "2  $1,099,252  \n",
       "3    $935,664  \n",
       "4    $906,183  "
      ]
     },
     "execution_count": 2,
     "metadata": {},
     "output_type": "execute_result"
    }
   ],
   "source": [
    "df = pd.read_csv('data/2008.csv')\n",
    "\n",
    "df.head()"
   ]
  },
  {
   "cell_type": "code",
   "execution_count": 3,
   "metadata": {},
   "outputs": [
    {
     "name": "stdout",
     "output_type": "stream",
     "text": [
      "<class 'pandas.core.frame.DataFrame'>\n",
      "RangeIndex: 160 entries, 0 to 159\n",
      "Data columns (total 8 columns):\n",
      " #   Column   Non-Null Count  Dtype  \n",
      "---  ------   --------------  -----  \n",
      " 0   Rank     160 non-null    int64  \n",
      " 1   Player   160 non-null    object \n",
      " 2   Team     160 non-null    object \n",
      " 3   RAA      160 non-null    int64  \n",
      " 4   Wins     160 non-null    float64\n",
      " 5   EFscore  160 non-null    float64\n",
      " 6   Salary   70 non-null     object \n",
      " 7   Value    160 non-null    object \n",
      "dtypes: float64(2), int64(2), object(4)\n",
      "memory usage: 10.1+ KB\n"
     ]
    }
   ],
   "source": [
    "df.info()"
   ]
  },
  {
   "cell_type": "code",
   "execution_count": 4,
   "metadata": {},
   "outputs": [
    {
     "data": {
      "text/html": [
       "<div>\n",
       "<style scoped>\n",
       "    .dataframe tbody tr th:only-of-type {\n",
       "        vertical-align: middle;\n",
       "    }\n",
       "\n",
       "    .dataframe tbody tr th {\n",
       "        vertical-align: top;\n",
       "    }\n",
       "\n",
       "    .dataframe thead th {\n",
       "        text-align: right;\n",
       "    }\n",
       "</style>\n",
       "<table border=\"1\" class=\"dataframe\">\n",
       "  <thead>\n",
       "    <tr style=\"text-align: right;\">\n",
       "      <th></th>\n",
       "      <th>count</th>\n",
       "      <th>mean</th>\n",
       "      <th>std</th>\n",
       "      <th>min</th>\n",
       "      <th>25%</th>\n",
       "      <th>50%</th>\n",
       "      <th>75%</th>\n",
       "      <th>max</th>\n",
       "    </tr>\n",
       "  </thead>\n",
       "  <tbody>\n",
       "    <tr>\n",
       "      <th>Rank</th>\n",
       "      <td>160.0</td>\n",
       "      <td>80.500000</td>\n",
       "      <td>46.332134</td>\n",
       "      <td>1.000</td>\n",
       "      <td>40.75000</td>\n",
       "      <td>80.5000</td>\n",
       "      <td>120.25000</td>\n",
       "      <td>160.000</td>\n",
       "    </tr>\n",
       "    <tr>\n",
       "      <th>RAA</th>\n",
       "      <td>160.0</td>\n",
       "      <td>0.043750</td>\n",
       "      <td>91.944292</td>\n",
       "      <td>-236.000</td>\n",
       "      <td>-55.00000</td>\n",
       "      <td>-15.5000</td>\n",
       "      <td>47.25000</td>\n",
       "      <td>377.000</td>\n",
       "    </tr>\n",
       "    <tr>\n",
       "      <th>Wins</th>\n",
       "      <td>160.0</td>\n",
       "      <td>-0.000019</td>\n",
       "      <td>0.330739</td>\n",
       "      <td>-0.849</td>\n",
       "      <td>-0.19900</td>\n",
       "      <td>-0.0550</td>\n",
       "      <td>0.16925</td>\n",
       "      <td>1.355</td>\n",
       "    </tr>\n",
       "    <tr>\n",
       "      <th>EFscore</th>\n",
       "      <td>160.0</td>\n",
       "      <td>0.059044</td>\n",
       "      <td>0.052711</td>\n",
       "      <td>0.000</td>\n",
       "      <td>0.01575</td>\n",
       "      <td>0.0465</td>\n",
       "      <td>0.09025</td>\n",
       "      <td>0.297</td>\n",
       "    </tr>\n",
       "  </tbody>\n",
       "</table>\n",
       "</div>"
      ],
      "text/plain": [
       "         count       mean        std      min       25%      50%        75%  \\\n",
       "Rank     160.0  80.500000  46.332134    1.000  40.75000  80.5000  120.25000   \n",
       "RAA      160.0   0.043750  91.944292 -236.000 -55.00000 -15.5000   47.25000   \n",
       "Wins     160.0  -0.000019   0.330739   -0.849  -0.19900  -0.0550    0.16925   \n",
       "EFscore  160.0   0.059044   0.052711    0.000   0.01575   0.0465    0.09025   \n",
       "\n",
       "             max  \n",
       "Rank     160.000  \n",
       "RAA      377.000  \n",
       "Wins       1.355  \n",
       "EFscore    0.297  "
      ]
     },
     "execution_count": 4,
     "metadata": {},
     "output_type": "execute_result"
    }
   ],
   "source": [
    "df.describe().T"
   ]
  },
  {
   "cell_type": "markdown",
   "metadata": {},
   "source": [
    "## Total Teams "
   ]
  },
  {
   "cell_type": "code",
   "execution_count": 5,
   "metadata": {},
   "outputs": [
    {
     "data": {
      "image/png": "[encoded data removed]",
      "text/plain": [
       "<Figure size 1440x576 with 1 Axes>"
      ]
     },
     "metadata": {
      "needs_background": "light"
     },
     "output_type": "display_data"
    }
   ],
   "source": [
    "from wordcloud import WordCloud, STOPWORDS\n",
    "text = ' '.join(df['Team'])\n",
    "stopwords = set(STOPWORDS)\n",
    "wc = WordCloud(background_color='black', stopwords=stopwords).generate(text)\n",
    "plt.figure(figsize=(20,8))\n",
    "plt.title('Team', fontsize=20)\n",
    "plt.axis('off')\n",
    "plt.imshow(wc)\n",
    "plt.show()"
   ]
  },
  {
   "cell_type": "code",
   "execution_count": 6,
   "metadata": {},
   "outputs": [
    {
     "data": {
      "text/html": [
       "<div>\n",
       "<style scoped>\n",
       "    .dataframe tbody tr th:only-of-type {\n",
       "        vertical-align: middle;\n",
       "    }\n",
       "\n",
       "    .dataframe tbody tr th {\n",
       "        vertical-align: top;\n",
       "    }\n",
       "\n",
       "    .dataframe thead th {\n",
       "        text-align: right;\n",
       "    }\n",
       "</style>\n",
       "<table border=\"1\" class=\"dataframe\">\n",
       "  <thead>\n",
       "    <tr style=\"text-align: right;\">\n",
       "      <th></th>\n",
       "      <th>Rank</th>\n",
       "      <th>Player</th>\n",
       "      <th>Team</th>\n",
       "      <th>RAA</th>\n",
       "      <th>Wins</th>\n",
       "      <th>EFscore</th>\n",
       "      <th>Salary</th>\n",
       "      <th>Value</th>\n",
       "    </tr>\n",
       "  </thead>\n",
       "  <tbody>\n",
       "    <tr>\n",
       "      <th>6</th>\n",
       "      <td>7</td>\n",
       "      <td>SK Raina</td>\n",
       "      <td>Chennai Super Kings</td>\n",
       "      <td>178</td>\n",
       "      <td>0.641</td>\n",
       "      <td>0.135</td>\n",
       "      <td>$650,000</td>\n",
       "      <td>$857,627</td>\n",
       "    </tr>\n",
       "    <tr>\n",
       "      <th>8</th>\n",
       "      <td>9</td>\n",
       "      <td>JA Morkel</td>\n",
       "      <td>Chennai Super Kings</td>\n",
       "      <td>158</td>\n",
       "      <td>0.567</td>\n",
       "      <td>0.191</td>\n",
       "      <td>$675,000</td>\n",
       "      <td>$814,851</td>\n",
       "    </tr>\n",
       "    <tr>\n",
       "      <th>10</th>\n",
       "      <td>11</td>\n",
       "      <td>MS Dhoni</td>\n",
       "      <td>Chennai Super Kings</td>\n",
       "      <td>148</td>\n",
       "      <td>0.532</td>\n",
       "      <td>0.121</td>\n",
       "      <td>$1,500,000</td>\n",
       "      <td>$794,619</td>\n",
       "    </tr>\n",
       "    <tr>\n",
       "      <th>13</th>\n",
       "      <td>14</td>\n",
       "      <td>ML Hayden</td>\n",
       "      <td>Chennai Super Kings</td>\n",
       "      <td>136</td>\n",
       "      <td>0.489</td>\n",
       "      <td>0.080</td>\n",
       "      <td>$375,000</td>\n",
       "      <td>$769,763</td>\n",
       "    </tr>\n",
       "    <tr>\n",
       "      <th>17</th>\n",
       "      <td>18</td>\n",
       "      <td>MEK Hussey</td>\n",
       "      <td>Chennai Super Kings</td>\n",
       "      <td>115</td>\n",
       "      <td>0.413</td>\n",
       "      <td>0.065</td>\n",
       "      <td>$250,000</td>\n",
       "      <td>$725,831</td>\n",
       "    </tr>\n",
       "    <tr>\n",
       "      <th>42</th>\n",
       "      <td>43</td>\n",
       "      <td>S Badrinath</td>\n",
       "      <td>Chennai Super Kings</td>\n",
       "      <td>32</td>\n",
       "      <td>0.117</td>\n",
       "      <td>0.055</td>\n",
       "      <td>NaN</td>\n",
       "      <td>$554,728</td>\n",
       "    </tr>\n",
       "    <tr>\n",
       "      <th>46</th>\n",
       "      <td>47</td>\n",
       "      <td>MS Gony</td>\n",
       "      <td>Chennai Super Kings</td>\n",
       "      <td>28</td>\n",
       "      <td>0.099</td>\n",
       "      <td>0.127</td>\n",
       "      <td>NaN</td>\n",
       "      <td>$544,323</td>\n",
       "    </tr>\n",
       "    <tr>\n",
       "      <th>53</th>\n",
       "      <td>54</td>\n",
       "      <td>L Balaji</td>\n",
       "      <td>Chennai Super Kings</td>\n",
       "      <td>15</td>\n",
       "      <td>0.053</td>\n",
       "      <td>0.078</td>\n",
       "      <td>NaN</td>\n",
       "      <td>$517,733</td>\n",
       "    </tr>\n",
       "    <tr>\n",
       "      <th>57</th>\n",
       "      <td>58</td>\n",
       "      <td>PA Patel</td>\n",
       "      <td>Chennai Super Kings</td>\n",
       "      <td>9</td>\n",
       "      <td>0.034</td>\n",
       "      <td>0.088</td>\n",
       "      <td>$325,000</td>\n",
       "      <td>$506,750</td>\n",
       "    </tr>\n",
       "    <tr>\n",
       "      <th>80</th>\n",
       "      <td>81</td>\n",
       "      <td>SP Fleming</td>\n",
       "      <td>Chennai Super Kings</td>\n",
       "      <td>-16</td>\n",
       "      <td>-0.057</td>\n",
       "      <td>0.046</td>\n",
       "      <td>$350,000</td>\n",
       "      <td>$454,147</td>\n",
       "    </tr>\n",
       "    <tr>\n",
       "      <th>91</th>\n",
       "      <td>92</td>\n",
       "      <td>S Anirudha</td>\n",
       "      <td>Chennai Super Kings</td>\n",
       "      <td>-26</td>\n",
       "      <td>-0.092</td>\n",
       "      <td>0.000</td>\n",
       "      <td>NaN</td>\n",
       "      <td>$433,916</td>\n",
       "    </tr>\n",
       "    <tr>\n",
       "      <th>92</th>\n",
       "      <td>93</td>\n",
       "      <td>A Mukund</td>\n",
       "      <td>Chennai Super Kings</td>\n",
       "      <td>-27</td>\n",
       "      <td>-0.096</td>\n",
       "      <td>0.000</td>\n",
       "      <td>NaN</td>\n",
       "      <td>$431,603</td>\n",
       "    </tr>\n",
       "    <tr>\n",
       "      <th>109</th>\n",
       "      <td>110</td>\n",
       "      <td>P Amarnath</td>\n",
       "      <td>Chennai Super Kings</td>\n",
       "      <td>-45</td>\n",
       "      <td>-0.161</td>\n",
       "      <td>0.036</td>\n",
       "      <td>NaN</td>\n",
       "      <td>$394,030</td>\n",
       "    </tr>\n",
       "    <tr>\n",
       "      <th>117</th>\n",
       "      <td>118</td>\n",
       "      <td>Joginder Sharma</td>\n",
       "      <td>Chennai Super Kings</td>\n",
       "      <td>-53</td>\n",
       "      <td>-0.192</td>\n",
       "      <td>0.054</td>\n",
       "      <td>$225,000</td>\n",
       "      <td>$376,111</td>\n",
       "    </tr>\n",
       "    <tr>\n",
       "      <th>125</th>\n",
       "      <td>126</td>\n",
       "      <td>S Vidyut</td>\n",
       "      <td>Chennai Super Kings</td>\n",
       "      <td>-62</td>\n",
       "      <td>-0.224</td>\n",
       "      <td>0.037</td>\n",
       "      <td>NaN</td>\n",
       "      <td>$357,613</td>\n",
       "    </tr>\n",
       "    <tr>\n",
       "      <th>128</th>\n",
       "      <td>129</td>\n",
       "      <td>M Ntini</td>\n",
       "      <td>Chennai Super Kings</td>\n",
       "      <td>-68</td>\n",
       "      <td>-0.246</td>\n",
       "      <td>0.065</td>\n",
       "      <td>$200,000</td>\n",
       "      <td>$344,896</td>\n",
       "    </tr>\n",
       "    <tr>\n",
       "      <th>136</th>\n",
       "      <td>137</td>\n",
       "      <td>JDP Oram</td>\n",
       "      <td>Chennai Super Kings</td>\n",
       "      <td>-74</td>\n",
       "      <td>-0.265</td>\n",
       "      <td>0.025</td>\n",
       "      <td>$675,000</td>\n",
       "      <td>$333,913</td>\n",
       "    </tr>\n",
       "    <tr>\n",
       "      <th>146</th>\n",
       "      <td>147</td>\n",
       "      <td>CK Kapugedera</td>\n",
       "      <td>Chennai Super Kings</td>\n",
       "      <td>-112</td>\n",
       "      <td>-0.402</td>\n",
       "      <td>0.004</td>\n",
       "      <td>NaN</td>\n",
       "      <td>$254,720</td>\n",
       "    </tr>\n",
       "    <tr>\n",
       "      <th>147</th>\n",
       "      <td>148</td>\n",
       "      <td>M Muralitharan</td>\n",
       "      <td>Chennai Super Kings</td>\n",
       "      <td>-112</td>\n",
       "      <td>-0.403</td>\n",
       "      <td>0.089</td>\n",
       "      <td>$600,000</td>\n",
       "      <td>$254,142</td>\n",
       "    </tr>\n",
       "  </tbody>\n",
       "</table>\n",
       "</div>"
      ],
      "text/plain": [
       "     Rank           Player                 Team  RAA   Wins  EFscore  \\\n",
       "6       7         SK Raina  Chennai Super Kings  178  0.641    0.135   \n",
       "8       9        JA Morkel  Chennai Super Kings  158  0.567    0.191   \n",
       "10     11         MS Dhoni  Chennai Super Kings  148  0.532    0.121   \n",
       "13     14        ML Hayden  Chennai Super Kings  136  0.489    0.080   \n",
       "17     18       MEK Hussey  Chennai Super Kings  115  0.413    0.065   \n",
       "42     43      S Badrinath  Chennai Super Kings   32  0.117    0.055   \n",
       "46     47          MS Gony  Chennai Super Kings   28  0.099    0.127   \n",
       "53     54         L Balaji  Chennai Super Kings   15  0.053    0.078   \n",
       "57     58         PA Patel  Chennai Super Kings    9  0.034    0.088   \n",
       "80     81       SP Fleming  Chennai Super Kings  -16 -0.057    0.046   \n",
       "91     92       S Anirudha  Chennai Super Kings  -26 -0.092    0.000   \n",
       "92     93         A Mukund  Chennai Super Kings  -27 -0.096    0.000   \n",
       "109   110       P Amarnath  Chennai Super Kings  -45 -0.161    0.036   \n",
       "117   118  Joginder Sharma  Chennai Super Kings  -53 -0.192    0.054   \n",
       "125   126         S Vidyut  Chennai Super Kings  -62 -0.224    0.037   \n",
       "128   129          M Ntini  Chennai Super Kings  -68 -0.246    0.065   \n",
       "136   137         JDP Oram  Chennai Super Kings  -74 -0.265    0.025   \n",
       "146   147    CK Kapugedera  Chennai Super Kings -112 -0.402    0.004   \n",
       "147   148   M Muralitharan  Chennai Super Kings -112 -0.403    0.089   \n",
       "\n",
       "         Salary     Value  \n",
       "6      $650,000  $857,627  \n",
       "8      $675,000  $814,851  \n",
       "10   $1,500,000  $794,619  \n",
       "13     $375,000  $769,763  \n",
       "17     $250,000  $725,831  \n",
       "42          NaN  $554,728  \n",
       "46          NaN  $544,323  \n",
       "53          NaN  $517,733  \n",
       "57     $325,000  $506,750  \n",
       "80     $350,000  $454,147  \n",
       "91          NaN  $433,916  \n",
       "92          NaN  $431,603  \n",
       "109         NaN  $394,030  \n",
       "117    $225,000  $376,111  \n",
       "125         NaN  $357,613  \n",
       "128    $200,000  $344,896  \n",
       "136    $675,000  $333,913  \n",
       "146         NaN  $254,720  \n",
       "147    $600,000  $254,142  "
      ]
     },
     "execution_count": 6,
     "metadata": {},
     "output_type": "execute_result"
    }
   ],
   "source": [
    "df[df['Team']=='Chennai Super Kings']"
   ]
  },
  {
   "cell_type": "markdown",
   "metadata": {},
   "source": [
    "##  Collecting the data from varies Data set "
   ]
  },
  {
   "cell_type": "code",
   "execution_count": 7,
   "metadata": {},
   "outputs": [],
   "source": [
    "year = ['2009','2010','2011','2012','2013','2014','2015','2016','2017','2018','2019','2020']"
   ]
  },
  {
   "cell_type": "code",
   "execution_count": 8,
   "metadata": {},
   "outputs": [],
   "source": [
    "data= df[df['Player']=='MS Dhoni']\n"
   ]
  },
  {
   "cell_type": "code",
   "execution_count": 9,
   "metadata": {},
   "outputs": [],
   "source": [
    "for i in year:\n",
    "    df = pd.read_csv(f'data/{i}.csv')\n",
    "    df['year'] = i\n",
    "    new = df[df['Player']=='MS Dhoni']\n",
    "    data = pd.concat([data,new],axis=0)"
   ]
  },
  {
   "cell_type": "markdown",
   "metadata": {},
   "source": [
    "# Final Data Set of MS_Dhoni"
   ]
  },
  {
   "cell_type": "code",
   "execution_count": 10,
   "metadata": {},
   "outputs": [
    {
     "data": {
      "text/html": [
       "<div>\n",
       "<style scoped>\n",
       "    .dataframe tbody tr th:only-of-type {\n",
       "        vertical-align: middle;\n",
       "    }\n",
       "\n",
       "    .dataframe tbody tr th {\n",
       "        vertical-align: top;\n",
       "    }\n",
       "\n",
       "    .dataframe thead th {\n",
       "        text-align: right;\n",
       "    }\n",
       "</style>\n",
       "<table border=\"1\" class=\"dataframe\">\n",
       "  <thead>\n",
       "    <tr style=\"text-align: right;\">\n",
       "      <th></th>\n",
       "      <th>Rank</th>\n",
       "      <th>Player</th>\n",
       "      <th>Team</th>\n",
       "      <th>RAA</th>\n",
       "      <th>Wins</th>\n",
       "      <th>EFscore</th>\n",
       "      <th>Salary</th>\n",
       "      <th>Value</th>\n",
       "      <th>year</th>\n",
       "    </tr>\n",
       "  </thead>\n",
       "  <tbody>\n",
       "    <tr>\n",
       "      <th>10</th>\n",
       "      <td>11</td>\n",
       "      <td>MS Dhoni</td>\n",
       "      <td>Chennai Super Kings</td>\n",
       "      <td>148</td>\n",
       "      <td>0.532</td>\n",
       "      <td>0.121</td>\n",
       "      <td>$1,500,000</td>\n",
       "      <td>$794,619</td>\n",
       "      <td>NaN</td>\n",
       "    </tr>\n",
       "    <tr>\n",
       "      <th>6</th>\n",
       "      <td>7</td>\n",
       "      <td>MS Dhoni</td>\n",
       "      <td>Chennai Super Kings</td>\n",
       "      <td>143</td>\n",
       "      <td>0.578</td>\n",
       "      <td>0.108</td>\n",
       "      <td>$1,500,000</td>\n",
       "      <td>$884,907</td>\n",
       "      <td>2009</td>\n",
       "    </tr>\n",
       "    <tr>\n",
       "      <th>22</th>\n",
       "      <td>23</td>\n",
       "      <td>MS Dhoni</td>\n",
       "      <td>Chennai Super Kings</td>\n",
       "      <td>70</td>\n",
       "      <td>0.249</td>\n",
       "      <td>0.076</td>\n",
       "      <td>$1,500,000</td>\n",
       "      <td>$662,122</td>\n",
       "      <td>2010</td>\n",
       "    </tr>\n",
       "    <tr>\n",
       "      <th>12</th>\n",
       "      <td>13</td>\n",
       "      <td>MS Dhoni</td>\n",
       "      <td>Chennai Super Kings</td>\n",
       "      <td>161</td>\n",
       "      <td>0.596</td>\n",
       "      <td>0.111</td>\n",
       "      <td>$1,500,000</td>\n",
       "      <td>$1,073,368</td>\n",
       "      <td>2011</td>\n",
       "    </tr>\n",
       "    <tr>\n",
       "      <th>23</th>\n",
       "      <td>24</td>\n",
       "      <td>MS Dhoni</td>\n",
       "      <td>Chennai Super Kings</td>\n",
       "      <td>94</td>\n",
       "      <td>0.341</td>\n",
       "      <td>0.089</td>\n",
       "      <td>$1,500,000</td>\n",
       "      <td>$902,504</td>\n",
       "      <td>2012</td>\n",
       "    </tr>\n",
       "    <tr>\n",
       "      <th>6</th>\n",
       "      <td>7</td>\n",
       "      <td>MS Dhoni</td>\n",
       "      <td>Chennai Super Kings</td>\n",
       "      <td>239</td>\n",
       "      <td>0.924</td>\n",
       "      <td>0.139</td>\n",
       "      <td>$3,000,000</td>\n",
       "      <td>$1,698,054</td>\n",
       "      <td>2013</td>\n",
       "    </tr>\n",
       "    <tr>\n",
       "      <th>1</th>\n",
       "      <td>2</td>\n",
       "      <td>MS Dhoni</td>\n",
       "      <td>Chennai Super Kings</td>\n",
       "      <td>229</td>\n",
       "      <td>0.779</td>\n",
       "      <td>0.143</td>\n",
       "      <td>$2,083,333</td>\n",
       "      <td>$1,466,583</td>\n",
       "      <td>2014</td>\n",
       "    </tr>\n",
       "    <tr>\n",
       "      <th>32</th>\n",
       "      <td>33</td>\n",
       "      <td>MS Dhoni</td>\n",
       "      <td>Chennai Super Kings</td>\n",
       "      <td>53</td>\n",
       "      <td>0.191</td>\n",
       "      <td>0.096</td>\n",
       "      <td>$2,083,333</td>\n",
       "      <td>$708,340</td>\n",
       "      <td>2015</td>\n",
       "    </tr>\n",
       "    <tr>\n",
       "      <th>18</th>\n",
       "      <td>19</td>\n",
       "      <td>MS Dhoni</td>\n",
       "      <td>Rising Pune Supergiants</td>\n",
       "      <td>111</td>\n",
       "      <td>0.367</td>\n",
       "      <td>0.084</td>\n",
       "      <td>$2,083,333</td>\n",
       "      <td>$823,273</td>\n",
       "      <td>2016</td>\n",
       "    </tr>\n",
       "    <tr>\n",
       "      <th>49</th>\n",
       "      <td>50</td>\n",
       "      <td>MS Dhoni</td>\n",
       "      <td>Rising Pune Supergiants</td>\n",
       "      <td>27</td>\n",
       "      <td>0.097</td>\n",
       "      <td>0.091</td>\n",
       "      <td>$2,083,333</td>\n",
       "      <td>$539,814</td>\n",
       "      <td>2017</td>\n",
       "    </tr>\n",
       "    <tr>\n",
       "      <th>4</th>\n",
       "      <td>5</td>\n",
       "      <td>MS Dhoni</td>\n",
       "      <td>Chennai Super Kings</td>\n",
       "      <td>290</td>\n",
       "      <td>1.011</td>\n",
       "      <td>0.167</td>\n",
       "      <td>$2,343,750</td>\n",
       "      <td>$2,090,927</td>\n",
       "      <td>2018</td>\n",
       "    </tr>\n",
       "    <tr>\n",
       "      <th>2</th>\n",
       "      <td>3</td>\n",
       "      <td>MS Dhoni</td>\n",
       "      <td>Chennai Super Kings</td>\n",
       "      <td>305</td>\n",
       "      <td>1.053</td>\n",
       "      <td>0.176</td>\n",
       "      <td>$2,343,750</td>\n",
       "      <td>$2,189,940</td>\n",
       "      <td>2019</td>\n",
       "    </tr>\n",
       "    <tr>\n",
       "      <th>54</th>\n",
       "      <td>55</td>\n",
       "      <td>MS Dhoni</td>\n",
       "      <td>Chennai Super Kings</td>\n",
       "      <td>1</td>\n",
       "      <td>0.005</td>\n",
       "      <td>0.049</td>\n",
       "      <td>$2,343,750</td>\n",
       "      <td>$592,864</td>\n",
       "      <td>2020</td>\n",
       "    </tr>\n",
       "  </tbody>\n",
       "</table>\n",
       "</div>"
      ],
      "text/plain": [
       "    Rank    Player                     Team  RAA   Wins  EFscore      Salary  \\\n",
       "10    11  MS Dhoni      Chennai Super Kings  148  0.532    0.121  $1,500,000   \n",
       "6      7  MS Dhoni      Chennai Super Kings  143  0.578    0.108  $1,500,000   \n",
       "22    23  MS Dhoni      Chennai Super Kings   70  0.249    0.076  $1,500,000   \n",
       "12    13  MS Dhoni      Chennai Super Kings  161  0.596    0.111  $1,500,000   \n",
       "23    24  MS Dhoni      Chennai Super Kings   94  0.341    0.089  $1,500,000   \n",
       "6      7  MS Dhoni      Chennai Super Kings  239  0.924    0.139  $3,000,000   \n",
       "1      2  MS Dhoni      Chennai Super Kings  229  0.779    0.143  $2,083,333   \n",
       "32    33  MS Dhoni      Chennai Super Kings   53  0.191    0.096  $2,083,333   \n",
       "18    19  MS Dhoni  Rising Pune Supergiants  111  0.367    0.084  $2,083,333   \n",
       "49    50  MS Dhoni  Rising Pune Supergiants   27  0.097    0.091  $2,083,333   \n",
       "4      5  MS Dhoni      Chennai Super Kings  290  1.011    0.167  $2,343,750   \n",
       "2      3  MS Dhoni      Chennai Super Kings  305  1.053    0.176  $2,343,750   \n",
       "54    55  MS Dhoni      Chennai Super Kings    1  0.005    0.049  $2,343,750   \n",
       "\n",
       "         Value  year  \n",
       "10    $794,619   NaN  \n",
       "6     $884,907  2009  \n",
       "22    $662,122  2010  \n",
       "12  $1,073,368  2011  \n",
       "23    $902,504  2012  \n",
       "6   $1,698,054  2013  \n",
       "1   $1,466,583  2014  \n",
       "32    $708,340  2015  \n",
       "18    $823,273  2016  \n",
       "49    $539,814  2017  \n",
       "4   $2,090,927  2018  \n",
       "2   $2,189,940  2019  \n",
       "54    $592,864  2020  "
      ]
     },
     "execution_count": 10,
     "metadata": {},
     "output_type": "execute_result"
    }
   ],
   "source": [
    "data"
   ]
  },
  {
   "cell_type": "code",
   "execution_count": 11,
   "metadata": {},
   "outputs": [],
   "source": [
    "data['year'].fillna(2008,inplace=True)"
   ]
  },
  {
   "cell_type": "code",
   "execution_count": 12,
   "metadata": {},
   "outputs": [
    {
     "data": {
      "text/html": [
       "<div>\n",
       "<style scoped>\n",
       "    .dataframe tbody tr th:only-of-type {\n",
       "        vertical-align: middle;\n",
       "    }\n",
       "\n",
       "    .dataframe tbody tr th {\n",
       "        vertical-align: top;\n",
       "    }\n",
       "\n",
       "    .dataframe thead th {\n",
       "        text-align: right;\n",
       "    }\n",
       "</style>\n",
       "<table border=\"1\" class=\"dataframe\">\n",
       "  <thead>\n",
       "    <tr style=\"text-align: right;\">\n",
       "      <th></th>\n",
       "      <th>Rank</th>\n",
       "      <th>Player</th>\n",
       "      <th>Team</th>\n",
       "      <th>RAA</th>\n",
       "      <th>Wins</th>\n",
       "      <th>EFscore</th>\n",
       "      <th>Salary</th>\n",
       "      <th>Value</th>\n",
       "      <th>year</th>\n",
       "    </tr>\n",
       "  </thead>\n",
       "  <tbody>\n",
       "    <tr>\n",
       "      <th>10</th>\n",
       "      <td>11</td>\n",
       "      <td>MS Dhoni</td>\n",
       "      <td>Chennai Super Kings</td>\n",
       "      <td>148</td>\n",
       "      <td>0.532</td>\n",
       "      <td>0.121</td>\n",
       "      <td>$1,500,000</td>\n",
       "      <td>$794,619</td>\n",
       "      <td>2008</td>\n",
       "    </tr>\n",
       "    <tr>\n",
       "      <th>6</th>\n",
       "      <td>7</td>\n",
       "      <td>MS Dhoni</td>\n",
       "      <td>Chennai Super Kings</td>\n",
       "      <td>143</td>\n",
       "      <td>0.578</td>\n",
       "      <td>0.108</td>\n",
       "      <td>$1,500,000</td>\n",
       "      <td>$884,907</td>\n",
       "      <td>2009</td>\n",
       "    </tr>\n",
       "    <tr>\n",
       "      <th>22</th>\n",
       "      <td>23</td>\n",
       "      <td>MS Dhoni</td>\n",
       "      <td>Chennai Super Kings</td>\n",
       "      <td>70</td>\n",
       "      <td>0.249</td>\n",
       "      <td>0.076</td>\n",
       "      <td>$1,500,000</td>\n",
       "      <td>$662,122</td>\n",
       "      <td>2010</td>\n",
       "    </tr>\n",
       "    <tr>\n",
       "      <th>12</th>\n",
       "      <td>13</td>\n",
       "      <td>MS Dhoni</td>\n",
       "      <td>Chennai Super Kings</td>\n",
       "      <td>161</td>\n",
       "      <td>0.596</td>\n",
       "      <td>0.111</td>\n",
       "      <td>$1,500,000</td>\n",
       "      <td>$1,073,368</td>\n",
       "      <td>2011</td>\n",
       "    </tr>\n",
       "    <tr>\n",
       "      <th>23</th>\n",
       "      <td>24</td>\n",
       "      <td>MS Dhoni</td>\n",
       "      <td>Chennai Super Kings</td>\n",
       "      <td>94</td>\n",
       "      <td>0.341</td>\n",
       "      <td>0.089</td>\n",
       "      <td>$1,500,000</td>\n",
       "      <td>$902,504</td>\n",
       "      <td>2012</td>\n",
       "    </tr>\n",
       "    <tr>\n",
       "      <th>6</th>\n",
       "      <td>7</td>\n",
       "      <td>MS Dhoni</td>\n",
       "      <td>Chennai Super Kings</td>\n",
       "      <td>239</td>\n",
       "      <td>0.924</td>\n",
       "      <td>0.139</td>\n",
       "      <td>$3,000,000</td>\n",
       "      <td>$1,698,054</td>\n",
       "      <td>2013</td>\n",
       "    </tr>\n",
       "    <tr>\n",
       "      <th>1</th>\n",
       "      <td>2</td>\n",
       "      <td>MS Dhoni</td>\n",
       "      <td>Chennai Super Kings</td>\n",
       "      <td>229</td>\n",
       "      <td>0.779</td>\n",
       "      <td>0.143</td>\n",
       "      <td>$2,083,333</td>\n",
       "      <td>$1,466,583</td>\n",
       "      <td>2014</td>\n",
       "    </tr>\n",
       "    <tr>\n",
       "      <th>32</th>\n",
       "      <td>33</td>\n",
       "      <td>MS Dhoni</td>\n",
       "      <td>Chennai Super Kings</td>\n",
       "      <td>53</td>\n",
       "      <td>0.191</td>\n",
       "      <td>0.096</td>\n",
       "      <td>$2,083,333</td>\n",
       "      <td>$708,340</td>\n",
       "      <td>2015</td>\n",
       "    </tr>\n",
       "    <tr>\n",
       "      <th>18</th>\n",
       "      <td>19</td>\n",
       "      <td>MS Dhoni</td>\n",
       "      <td>Rising Pune Supergiants</td>\n",
       "      <td>111</td>\n",
       "      <td>0.367</td>\n",
       "      <td>0.084</td>\n",
       "      <td>$2,083,333</td>\n",
       "      <td>$823,273</td>\n",
       "      <td>2016</td>\n",
       "    </tr>\n",
       "    <tr>\n",
       "      <th>49</th>\n",
       "      <td>50</td>\n",
       "      <td>MS Dhoni</td>\n",
       "      <td>Rising Pune Supergiants</td>\n",
       "      <td>27</td>\n",
       "      <td>0.097</td>\n",
       "      <td>0.091</td>\n",
       "      <td>$2,083,333</td>\n",
       "      <td>$539,814</td>\n",
       "      <td>2017</td>\n",
       "    </tr>\n",
       "    <tr>\n",
       "      <th>4</th>\n",
       "      <td>5</td>\n",
       "      <td>MS Dhoni</td>\n",
       "      <td>Chennai Super Kings</td>\n",
       "      <td>290</td>\n",
       "      <td>1.011</td>\n",
       "      <td>0.167</td>\n",
       "      <td>$2,343,750</td>\n",
       "      <td>$2,090,927</td>\n",
       "      <td>2018</td>\n",
       "    </tr>\n",
       "    <tr>\n",
       "      <th>2</th>\n",
       "      <td>3</td>\n",
       "      <td>MS Dhoni</td>\n",
       "      <td>Chennai Super Kings</td>\n",
       "      <td>305</td>\n",
       "      <td>1.053</td>\n",
       "      <td>0.176</td>\n",
       "      <td>$2,343,750</td>\n",
       "      <td>$2,189,940</td>\n",
       "      <td>2019</td>\n",
       "    </tr>\n",
       "    <tr>\n",
       "      <th>54</th>\n",
       "      <td>55</td>\n",
       "      <td>MS Dhoni</td>\n",
       "      <td>Chennai Super Kings</td>\n",
       "      <td>1</td>\n",
       "      <td>0.005</td>\n",
       "      <td>0.049</td>\n",
       "      <td>$2,343,750</td>\n",
       "      <td>$592,864</td>\n",
       "      <td>2020</td>\n",
       "    </tr>\n",
       "  </tbody>\n",
       "</table>\n",
       "</div>"
      ],
      "text/plain": [
       "    Rank    Player                     Team  RAA   Wins  EFscore      Salary  \\\n",
       "10    11  MS Dhoni      Chennai Super Kings  148  0.532    0.121  $1,500,000   \n",
       "6      7  MS Dhoni      Chennai Super Kings  143  0.578    0.108  $1,500,000   \n",
       "22    23  MS Dhoni      Chennai Super Kings   70  0.249    0.076  $1,500,000   \n",
       "12    13  MS Dhoni      Chennai Super Kings  161  0.596    0.111  $1,500,000   \n",
       "23    24  MS Dhoni      Chennai Super Kings   94  0.341    0.089  $1,500,000   \n",
       "6      7  MS Dhoni      Chennai Super Kings  239  0.924    0.139  $3,000,000   \n",
       "1      2  MS Dhoni      Chennai Super Kings  229  0.779    0.143  $2,083,333   \n",
       "32    33  MS Dhoni      Chennai Super Kings   53  0.191    0.096  $2,083,333   \n",
       "18    19  MS Dhoni  Rising Pune Supergiants  111  0.367    0.084  $2,083,333   \n",
       "49    50  MS Dhoni  Rising Pune Supergiants   27  0.097    0.091  $2,083,333   \n",
       "4      5  MS Dhoni      Chennai Super Kings  290  1.011    0.167  $2,343,750   \n",
       "2      3  MS Dhoni      Chennai Super Kings  305  1.053    0.176  $2,343,750   \n",
       "54    55  MS Dhoni      Chennai Super Kings    1  0.005    0.049  $2,343,750   \n",
       "\n",
       "         Value  year  \n",
       "10    $794,619  2008  \n",
       "6     $884,907  2009  \n",
       "22    $662,122  2010  \n",
       "12  $1,073,368  2011  \n",
       "23    $902,504  2012  \n",
       "6   $1,698,054  2013  \n",
       "1   $1,466,583  2014  \n",
       "32    $708,340  2015  \n",
       "18    $823,273  2016  \n",
       "49    $539,814  2017  \n",
       "4   $2,090,927  2018  \n",
       "2   $2,189,940  2019  \n",
       "54    $592,864  2020  "
      ]
     },
     "execution_count": 12,
     "metadata": {},
     "output_type": "execute_result"
    }
   ],
   "source": [
    "data"
   ]
  },
  {
   "cell_type": "code",
   "execution_count": 51,
   "metadata": {},
   "outputs": [
    {
     "name": "stdout",
     "output_type": "stream",
     "text": [
      "<class 'pandas.core.frame.DataFrame'>\n",
      "Int64Index: 13 entries, 10 to 54\n",
      "Data columns (total 9 columns):\n",
      " #   Column   Non-Null Count  Dtype  \n",
      "---  ------   --------------  -----  \n",
      " 0   Rank     13 non-null     int64  \n",
      " 1   Player   13 non-null     object \n",
      " 2   Team     13 non-null     object \n",
      " 3   RAA      13 non-null     int64  \n",
      " 4   Wins     13 non-null     float64\n",
      " 5   EFscore  13 non-null     float64\n",
      " 6   Salary   13 non-null     int64  \n",
      " 7   Value    13 non-null     int64  \n",
      " 8   year     13 non-null     int32  \n",
      "dtypes: float64(2), int32(1), int64(4), object(2)\n",
      "memory usage: 1.3+ KB\n"
     ]
    }
   ],
   "source": [
    "data.info()"
   ]
  },
  {
   "cell_type": "code",
   "execution_count": null,
   "metadata": {},
   "outputs": [],
   "source": []
  },
  {
   "cell_type": "markdown",
   "metadata": {},
   "source": [
    "## Rank "
   ]
  },
  {
   "cell_type": "code",
   "execution_count": 13,
   "metadata": {},
   "outputs": [
    {
     "data": {
      "text/plain": [
       "<matplotlib.axes._subplots.AxesSubplot at 0x1a1e1a9da88>"
      ]
     },
     "execution_count": 13,
     "metadata": {},
     "output_type": "execute_result"
    },
    {
     "data": {
      "image/png": "[encoded data removed]",
      "text/plain": [
       "<Figure size 864x576 with 1 Axes>"
      ]
     },
     "metadata": {
      "needs_background": "light"
     },
     "output_type": "display_data"
    }
   ],
   "source": [
    "plt.figure(figsize=(12,8))\n",
    "sns.barplot(x='year', y='Rank',data=data)"
   ]
  },
  {
   "cell_type": "markdown",
   "metadata": {},
   "source": [
    "Here if Rank is as much as smaller that means it is the best player of the season  \n",
    "\n",
    "In 2014 Ms Dhoni was the 2nd Best player of match & In 2019 was the 3rd Best player "
   ]
  },
  {
   "cell_type": "markdown",
   "metadata": {},
   "source": [
    "## Converting the Data Types to Integer "
   ]
  },
  {
   "cell_type": "code",
   "execution_count": 14,
   "metadata": {},
   "outputs": [
    {
     "data": {
      "text/plain": [
       "dtype('O')"
      ]
     },
     "execution_count": 14,
     "metadata": {},
     "output_type": "execute_result"
    }
   ],
   "source": [
    "data['Salary'].dtype"
   ]
  },
  {
   "cell_type": "code",
   "execution_count": 15,
   "metadata": {},
   "outputs": [],
   "source": [
    "def change_data_type(x):\n",
    "    x = str(x)\n",
    "    x = x[1:]\n",
    "    x = x.replace(\",\" , \"\")\n",
    "    x = int(x)\n",
    "    return x"
   ]
  },
  {
   "cell_type": "code",
   "execution_count": 16,
   "metadata": {},
   "outputs": [],
   "source": [
    "data['Salary'] = data['Salary'].apply(change_data_type)\n",
    "data['Value'] = data['Value'].apply(change_data_type)"
   ]
  },
  {
   "cell_type": "code",
   "execution_count": 17,
   "metadata": {},
   "outputs": [
    {
     "data": {
      "text/html": [
       "<div>\n",
       "<style scoped>\n",
       "    .dataframe tbody tr th:only-of-type {\n",
       "        vertical-align: middle;\n",
       "    }\n",
       "\n",
       "    .dataframe tbody tr th {\n",
       "        vertical-align: top;\n",
       "    }\n",
       "\n",
       "    .dataframe thead th {\n",
       "        text-align: right;\n",
       "    }\n",
       "</style>\n",
       "<table border=\"1\" class=\"dataframe\">\n",
       "  <thead>\n",
       "    <tr style=\"text-align: right;\">\n",
       "      <th></th>\n",
       "      <th>Rank</th>\n",
       "      <th>Player</th>\n",
       "      <th>Team</th>\n",
       "      <th>RAA</th>\n",
       "      <th>Wins</th>\n",
       "      <th>EFscore</th>\n",
       "      <th>Salary</th>\n",
       "      <th>Value</th>\n",
       "      <th>year</th>\n",
       "    </tr>\n",
       "  </thead>\n",
       "  <tbody>\n",
       "    <tr>\n",
       "      <th>10</th>\n",
       "      <td>11</td>\n",
       "      <td>MS Dhoni</td>\n",
       "      <td>Chennai Super Kings</td>\n",
       "      <td>148</td>\n",
       "      <td>0.532</td>\n",
       "      <td>0.121</td>\n",
       "      <td>1500000</td>\n",
       "      <td>794619</td>\n",
       "      <td>2008</td>\n",
       "    </tr>\n",
       "    <tr>\n",
       "      <th>6</th>\n",
       "      <td>7</td>\n",
       "      <td>MS Dhoni</td>\n",
       "      <td>Chennai Super Kings</td>\n",
       "      <td>143</td>\n",
       "      <td>0.578</td>\n",
       "      <td>0.108</td>\n",
       "      <td>1500000</td>\n",
       "      <td>884907</td>\n",
       "      <td>2009</td>\n",
       "    </tr>\n",
       "    <tr>\n",
       "      <th>22</th>\n",
       "      <td>23</td>\n",
       "      <td>MS Dhoni</td>\n",
       "      <td>Chennai Super Kings</td>\n",
       "      <td>70</td>\n",
       "      <td>0.249</td>\n",
       "      <td>0.076</td>\n",
       "      <td>1500000</td>\n",
       "      <td>662122</td>\n",
       "      <td>2010</td>\n",
       "    </tr>\n",
       "    <tr>\n",
       "      <th>12</th>\n",
       "      <td>13</td>\n",
       "      <td>MS Dhoni</td>\n",
       "      <td>Chennai Super Kings</td>\n",
       "      <td>161</td>\n",
       "      <td>0.596</td>\n",
       "      <td>0.111</td>\n",
       "      <td>1500000</td>\n",
       "      <td>1073368</td>\n",
       "      <td>2011</td>\n",
       "    </tr>\n",
       "    <tr>\n",
       "      <th>23</th>\n",
       "      <td>24</td>\n",
       "      <td>MS Dhoni</td>\n",
       "      <td>Chennai Super Kings</td>\n",
       "      <td>94</td>\n",
       "      <td>0.341</td>\n",
       "      <td>0.089</td>\n",
       "      <td>1500000</td>\n",
       "      <td>902504</td>\n",
       "      <td>2012</td>\n",
       "    </tr>\n",
       "  </tbody>\n",
       "</table>\n",
       "</div>"
      ],
      "text/plain": [
       "    Rank    Player                 Team  RAA   Wins  EFscore   Salary  \\\n",
       "10    11  MS Dhoni  Chennai Super Kings  148  0.532    0.121  1500000   \n",
       "6      7  MS Dhoni  Chennai Super Kings  143  0.578    0.108  1500000   \n",
       "22    23  MS Dhoni  Chennai Super Kings   70  0.249    0.076  1500000   \n",
       "12    13  MS Dhoni  Chennai Super Kings  161  0.596    0.111  1500000   \n",
       "23    24  MS Dhoni  Chennai Super Kings   94  0.341    0.089  1500000   \n",
       "\n",
       "      Value  year  \n",
       "10   794619  2008  \n",
       "6    884907  2009  \n",
       "22   662122  2010  \n",
       "12  1073368  2011  \n",
       "23   902504  2012  "
      ]
     },
     "execution_count": 17,
     "metadata": {},
     "output_type": "execute_result"
    }
   ],
   "source": [
    "data.head()"
   ]
  },
  {
   "cell_type": "markdown",
   "metadata": {},
   "source": [
    " Salary & Value is in Dollar And it was in string so i convert into integer"
   ]
  },
  {
   "cell_type": "code",
   "execution_count": 18,
   "metadata": {},
   "outputs": [],
   "source": [
    "data['year'] = data['year'].astype('int')"
   ]
  },
  {
   "cell_type": "code",
   "execution_count": null,
   "metadata": {},
   "outputs": [],
   "source": []
  },
  {
   "cell_type": "markdown",
   "metadata": {},
   "source": [
    "### Salary According to Rank"
   ]
  },
  {
   "cell_type": "code",
   "execution_count": 19,
   "metadata": {},
   "outputs": [
    {
     "data": {
      "text/plain": [
       "<matplotlib.axes._subplots.AxesSubplot at 0x1a1e1a18788>"
      ]
     },
     "execution_count": 19,
     "metadata": {},
     "output_type": "execute_result"
    },
    {
     "data": {
      "image/png": "[encoded data removed]",
      "text/plain": [
       "<Figure size 432x288 with 1 Axes>"
      ]
     },
     "metadata": {
      "needs_background": "light"
     },
     "output_type": "display_data"
    }
   ],
   "source": [
    "sns.boxplot(x='Salary',y='Rank',data=data)"
   ]
  },
  {
   "cell_type": "code",
   "execution_count": 20,
   "metadata": {},
   "outputs": [
    {
     "data": {
      "text/plain": [
       "<matplotlib.axes._subplots.AxesSubplot at 0x1a1e188a688>"
      ]
     },
     "execution_count": 20,
     "metadata": {},
     "output_type": "execute_result"
    },
    {
     "data": {
      "image/png": "[encoded data removed]",
      "text/plain": [
       "<Figure size 720x576 with 1 Axes>"
      ]
     },
     "metadata": {
      "needs_background": "light"
     },
     "output_type": "display_data"
    }
   ],
   "source": [
    "plt.figure(figsize=(10,8))\n",
    "sns.barplot(y='Salary',x='Rank',data=data)"
   ]
  },
  {
   "cell_type": "markdown",
   "metadata": {},
   "source": [
    "## Team"
   ]
  },
  {
   "cell_type": "code",
   "execution_count": null,
   "metadata": {},
   "outputs": [],
   "source": []
  },
  {
   "cell_type": "code",
   "execution_count": 21,
   "metadata": {},
   "outputs": [
    {
     "data": {
      "text/plain": [
       "<matplotlib.axes._subplots.AxesSubplot at 0x1a1e193bd08>"
      ]
     },
     "execution_count": 21,
     "metadata": {},
     "output_type": "execute_result"
    },
    {
     "data": {
      "image/png": "[encoded data removed]",
      "text/plain": [
       "<Figure size 432x288 with 1 Axes>"
      ]
     },
     "metadata": {
      "needs_background": "light"
     },
     "output_type": "display_data"
    }
   ],
   "source": [
    "sns.countplot(data['Team'])"
   ]
  },
  {
   "cell_type": "code",
   "execution_count": 22,
   "metadata": {},
   "outputs": [
    {
     "data": {
      "text/html": [
       "<div>\n",
       "<style scoped>\n",
       "    .dataframe tbody tr th:only-of-type {\n",
       "        vertical-align: middle;\n",
       "    }\n",
       "\n",
       "    .dataframe tbody tr th {\n",
       "        vertical-align: top;\n",
       "    }\n",
       "\n",
       "    .dataframe thead th {\n",
       "        text-align: right;\n",
       "    }\n",
       "</style>\n",
       "<table border=\"1\" class=\"dataframe\">\n",
       "  <thead>\n",
       "    <tr style=\"text-align: right;\">\n",
       "      <th></th>\n",
       "      <th>Rank</th>\n",
       "      <th>Player</th>\n",
       "      <th>Team</th>\n",
       "      <th>RAA</th>\n",
       "      <th>Wins</th>\n",
       "      <th>EFscore</th>\n",
       "      <th>Salary</th>\n",
       "      <th>Value</th>\n",
       "      <th>year</th>\n",
       "    </tr>\n",
       "  </thead>\n",
       "  <tbody>\n",
       "    <tr>\n",
       "      <th>6</th>\n",
       "      <td>7</td>\n",
       "      <td>MS Dhoni</td>\n",
       "      <td>Chennai Super Kings</td>\n",
       "      <td>239</td>\n",
       "      <td>0.924</td>\n",
       "      <td>0.139</td>\n",
       "      <td>3000000</td>\n",
       "      <td>1698054</td>\n",
       "      <td>2013</td>\n",
       "    </tr>\n",
       "  </tbody>\n",
       "</table>\n",
       "</div>"
      ],
      "text/plain": [
       "   Rank    Player                 Team  RAA   Wins  EFscore   Salary    Value  \\\n",
       "6     7  MS Dhoni  Chennai Super Kings  239  0.924    0.139  3000000  1698054   \n",
       "\n",
       "   year  \n",
       "6  2013  "
      ]
     },
     "execution_count": 22,
     "metadata": {},
     "output_type": "execute_result"
    }
   ],
   "source": [
    "data[data['Salary']==data['Salary'].max()]"
   ]
  },
  {
   "cell_type": "markdown",
   "metadata": {},
   "source": [
    "According to the data Chennai Super Kings was the highest playing team for MS-Dhoni"
   ]
  },
  {
   "cell_type": "code",
   "execution_count": null,
   "metadata": {},
   "outputs": [],
   "source": []
  },
  {
   "cell_type": "markdown",
   "metadata": {},
   "source": [
    "##  Runs Above Average"
   ]
  },
  {
   "cell_type": "markdown",
   "metadata": {},
   "source": [
    "The value of each player is estimated by calculating how much above average that player contributed as a batsman or a bowler. Both the batting and bowling scores are combined into a single score called Runs Above Average, or RAA. An RAA score of 0 implies an average performance. A positive RAA means that the player was above average, and conversely, a player with a negative RAA means his performance was below average."
   ]
  },
  {
   "cell_type": "code",
   "execution_count": 23,
   "metadata": {},
   "outputs": [
    {
     "data": {
      "text/plain": [
       "<matplotlib.axes._subplots.AxesSubplot at 0x1a1e199b048>"
      ]
     },
     "execution_count": 23,
     "metadata": {},
     "output_type": "execute_result"
    },
    {
     "data": {
      "image/png": "[encoded data removed]",
      "text/plain": [
       "<Figure size 432x288 with 1 Axes>"
      ]
     },
     "metadata": {
      "needs_background": "light"
     },
     "output_type": "display_data"
    }
   ],
   "source": [
    "sns.distplot(data['RAA'])"
   ]
  },
  {
   "cell_type": "code",
   "execution_count": 24,
   "metadata": {},
   "outputs": [
    {
     "data": {
      "text/plain": [
       "<matplotlib.axes._subplots.AxesSubplot at 0x1a1e193b8c8>"
      ]
     },
     "execution_count": 24,
     "metadata": {},
     "output_type": "execute_result"
    },
    {
     "data": {
      "image/png": "[encoded data removed]",
      "text/plain": [
       "<Figure size 864x576 with 1 Axes>"
      ]
     },
     "metadata": {
      "needs_background": "light"
     },
     "output_type": "display_data"
    }
   ],
   "source": [
    "plt.figure(figsize=(12,8))\n",
    "sns.barplot(x='year', y='RAA',data=data)"
   ]
  },
  {
   "cell_type": "markdown",
   "metadata": {},
   "source": [
    "2019,2018 was the best year for MS-Dhoni beacuse he has score Runs Above Average"
   ]
  },
  {
   "cell_type": "code",
   "execution_count": 25,
   "metadata": {},
   "outputs": [
    {
     "data": {
      "image/png": "[encoded data removed]",
      "text/plain": [
       "<Figure size 864x432 with 1 Axes>"
      ]
     },
     "metadata": {
      "needs_background": "light"
     },
     "output_type": "display_data"
    }
   ],
   "source": [
    "plt.figure(figsize=(12,6))\n",
    "\n",
    "chart = sns.barplot(\n",
    "    data=data,\n",
    "    x='RAA',\n",
    "    y='Salary',\n",
    "    palette='Set3'\n",
    ")\n",
    "chart = chart.set_xticklabels(\n",
    "    chart.get_xticklabels(),\n",
    "    rotation=60,\n",
    "    horizontalalignment = 'right',\n",
    "    fontweight='light'\n",
    ")\n",
    "\n",
    "plt.xlabel('RAA', size=12)\n",
    "plt.ylabel('Salary', size=12)\n",
    "plt.title('Salary According to RAA ', size=12)\n",
    "plt.show()"
   ]
  },
  {
   "cell_type": "code",
   "execution_count": 26,
   "metadata": {},
   "outputs": [
    {
     "data": {
      "image/png": "[encoded data removed]",
      "text/plain": [
       "<Figure size 864x432 with 1 Axes>"
      ]
     },
     "metadata": {
      "needs_background": "light"
     },
     "output_type": "display_data"
    }
   ],
   "source": [
    "plt.figure(figsize=(12,6))\n",
    "\n",
    "chart = sns.barplot(\n",
    "    data=data,\n",
    "    x='RAA',\n",
    "    y='Value',\n",
    "    palette='Set3'\n",
    ")\n",
    "chart = chart.set_xticklabels(\n",
    "    chart.get_xticklabels(),\n",
    "    rotation=60,\n",
    "    horizontalalignment = 'right',\n",
    "    fontweight='light'\n",
    ")\n",
    "\n",
    "plt.xlabel('RAA', size=12)\n",
    "plt.ylabel('Value', size=12)\n",
    "plt.title('Value According to RAA ', size=12)\n",
    "plt.show()"
   ]
  },
  {
   "cell_type": "markdown",
   "metadata": {},
   "source": [
    "player Value increase according Runs Above Average grow"
   ]
  },
  {
   "cell_type": "code",
   "execution_count": 27,
   "metadata": {},
   "outputs": [
    {
     "data": {
      "text/html": [
       "<div>\n",
       "<style scoped>\n",
       "    .dataframe tbody tr th:only-of-type {\n",
       "        vertical-align: middle;\n",
       "    }\n",
       "\n",
       "    .dataframe tbody tr th {\n",
       "        vertical-align: top;\n",
       "    }\n",
       "\n",
       "    .dataframe thead th {\n",
       "        text-align: right;\n",
       "    }\n",
       "</style>\n",
       "<table border=\"1\" class=\"dataframe\">\n",
       "  <thead>\n",
       "    <tr style=\"text-align: right;\">\n",
       "      <th></th>\n",
       "      <th>Rank</th>\n",
       "      <th>Player</th>\n",
       "      <th>Team</th>\n",
       "      <th>RAA</th>\n",
       "      <th>Wins</th>\n",
       "      <th>EFscore</th>\n",
       "      <th>Salary</th>\n",
       "      <th>Value</th>\n",
       "      <th>year</th>\n",
       "    </tr>\n",
       "  </thead>\n",
       "  <tbody>\n",
       "    <tr>\n",
       "      <th>10</th>\n",
       "      <td>11</td>\n",
       "      <td>MS Dhoni</td>\n",
       "      <td>Chennai Super Kings</td>\n",
       "      <td>148</td>\n",
       "      <td>0.532</td>\n",
       "      <td>0.121</td>\n",
       "      <td>1500000</td>\n",
       "      <td>794619</td>\n",
       "      <td>2008</td>\n",
       "    </tr>\n",
       "    <tr>\n",
       "      <th>6</th>\n",
       "      <td>7</td>\n",
       "      <td>MS Dhoni</td>\n",
       "      <td>Chennai Super Kings</td>\n",
       "      <td>143</td>\n",
       "      <td>0.578</td>\n",
       "      <td>0.108</td>\n",
       "      <td>1500000</td>\n",
       "      <td>884907</td>\n",
       "      <td>2009</td>\n",
       "    </tr>\n",
       "    <tr>\n",
       "      <th>22</th>\n",
       "      <td>23</td>\n",
       "      <td>MS Dhoni</td>\n",
       "      <td>Chennai Super Kings</td>\n",
       "      <td>70</td>\n",
       "      <td>0.249</td>\n",
       "      <td>0.076</td>\n",
       "      <td>1500000</td>\n",
       "      <td>662122</td>\n",
       "      <td>2010</td>\n",
       "    </tr>\n",
       "    <tr>\n",
       "      <th>12</th>\n",
       "      <td>13</td>\n",
       "      <td>MS Dhoni</td>\n",
       "      <td>Chennai Super Kings</td>\n",
       "      <td>161</td>\n",
       "      <td>0.596</td>\n",
       "      <td>0.111</td>\n",
       "      <td>1500000</td>\n",
       "      <td>1073368</td>\n",
       "      <td>2011</td>\n",
       "    </tr>\n",
       "    <tr>\n",
       "      <th>23</th>\n",
       "      <td>24</td>\n",
       "      <td>MS Dhoni</td>\n",
       "      <td>Chennai Super Kings</td>\n",
       "      <td>94</td>\n",
       "      <td>0.341</td>\n",
       "      <td>0.089</td>\n",
       "      <td>1500000</td>\n",
       "      <td>902504</td>\n",
       "      <td>2012</td>\n",
       "    </tr>\n",
       "    <tr>\n",
       "      <th>6</th>\n",
       "      <td>7</td>\n",
       "      <td>MS Dhoni</td>\n",
       "      <td>Chennai Super Kings</td>\n",
       "      <td>239</td>\n",
       "      <td>0.924</td>\n",
       "      <td>0.139</td>\n",
       "      <td>3000000</td>\n",
       "      <td>1698054</td>\n",
       "      <td>2013</td>\n",
       "    </tr>\n",
       "    <tr>\n",
       "      <th>1</th>\n",
       "      <td>2</td>\n",
       "      <td>MS Dhoni</td>\n",
       "      <td>Chennai Super Kings</td>\n",
       "      <td>229</td>\n",
       "      <td>0.779</td>\n",
       "      <td>0.143</td>\n",
       "      <td>2083333</td>\n",
       "      <td>1466583</td>\n",
       "      <td>2014</td>\n",
       "    </tr>\n",
       "    <tr>\n",
       "      <th>32</th>\n",
       "      <td>33</td>\n",
       "      <td>MS Dhoni</td>\n",
       "      <td>Chennai Super Kings</td>\n",
       "      <td>53</td>\n",
       "      <td>0.191</td>\n",
       "      <td>0.096</td>\n",
       "      <td>2083333</td>\n",
       "      <td>708340</td>\n",
       "      <td>2015</td>\n",
       "    </tr>\n",
       "    <tr>\n",
       "      <th>18</th>\n",
       "      <td>19</td>\n",
       "      <td>MS Dhoni</td>\n",
       "      <td>Rising Pune Supergiants</td>\n",
       "      <td>111</td>\n",
       "      <td>0.367</td>\n",
       "      <td>0.084</td>\n",
       "      <td>2083333</td>\n",
       "      <td>823273</td>\n",
       "      <td>2016</td>\n",
       "    </tr>\n",
       "    <tr>\n",
       "      <th>49</th>\n",
       "      <td>50</td>\n",
       "      <td>MS Dhoni</td>\n",
       "      <td>Rising Pune Supergiants</td>\n",
       "      <td>27</td>\n",
       "      <td>0.097</td>\n",
       "      <td>0.091</td>\n",
       "      <td>2083333</td>\n",
       "      <td>539814</td>\n",
       "      <td>2017</td>\n",
       "    </tr>\n",
       "    <tr>\n",
       "      <th>4</th>\n",
       "      <td>5</td>\n",
       "      <td>MS Dhoni</td>\n",
       "      <td>Chennai Super Kings</td>\n",
       "      <td>290</td>\n",
       "      <td>1.011</td>\n",
       "      <td>0.167</td>\n",
       "      <td>2343750</td>\n",
       "      <td>2090927</td>\n",
       "      <td>2018</td>\n",
       "    </tr>\n",
       "    <tr>\n",
       "      <th>2</th>\n",
       "      <td>3</td>\n",
       "      <td>MS Dhoni</td>\n",
       "      <td>Chennai Super Kings</td>\n",
       "      <td>305</td>\n",
       "      <td>1.053</td>\n",
       "      <td>0.176</td>\n",
       "      <td>2343750</td>\n",
       "      <td>2189940</td>\n",
       "      <td>2019</td>\n",
       "    </tr>\n",
       "    <tr>\n",
       "      <th>54</th>\n",
       "      <td>55</td>\n",
       "      <td>MS Dhoni</td>\n",
       "      <td>Chennai Super Kings</td>\n",
       "      <td>1</td>\n",
       "      <td>0.005</td>\n",
       "      <td>0.049</td>\n",
       "      <td>2343750</td>\n",
       "      <td>592864</td>\n",
       "      <td>2020</td>\n",
       "    </tr>\n",
       "  </tbody>\n",
       "</table>\n",
       "</div>"
      ],
      "text/plain": [
       "    Rank    Player                     Team  RAA   Wins  EFscore   Salary  \\\n",
       "10    11  MS Dhoni      Chennai Super Kings  148  0.532    0.121  1500000   \n",
       "6      7  MS Dhoni      Chennai Super Kings  143  0.578    0.108  1500000   \n",
       "22    23  MS Dhoni      Chennai Super Kings   70  0.249    0.076  1500000   \n",
       "12    13  MS Dhoni      Chennai Super Kings  161  0.596    0.111  1500000   \n",
       "23    24  MS Dhoni      Chennai Super Kings   94  0.341    0.089  1500000   \n",
       "6      7  MS Dhoni      Chennai Super Kings  239  0.924    0.139  3000000   \n",
       "1      2  MS Dhoni      Chennai Super Kings  229  0.779    0.143  2083333   \n",
       "32    33  MS Dhoni      Chennai Super Kings   53  0.191    0.096  2083333   \n",
       "18    19  MS Dhoni  Rising Pune Supergiants  111  0.367    0.084  2083333   \n",
       "49    50  MS Dhoni  Rising Pune Supergiants   27  0.097    0.091  2083333   \n",
       "4      5  MS Dhoni      Chennai Super Kings  290  1.011    0.167  2343750   \n",
       "2      3  MS Dhoni      Chennai Super Kings  305  1.053    0.176  2343750   \n",
       "54    55  MS Dhoni      Chennai Super Kings    1  0.005    0.049  2343750   \n",
       "\n",
       "      Value  year  \n",
       "10   794619  2008  \n",
       "6    884907  2009  \n",
       "22   662122  2010  \n",
       "12  1073368  2011  \n",
       "23   902504  2012  \n",
       "6   1698054  2013  \n",
       "1   1466583  2014  \n",
       "32   708340  2015  \n",
       "18   823273  2016  \n",
       "49   539814  2017  \n",
       "4   2090927  2018  \n",
       "2   2189940  2019  \n",
       "54   592864  2020  "
      ]
     },
     "execution_count": 27,
     "metadata": {},
     "output_type": "execute_result"
    }
   ],
   "source": [
    "data"
   ]
  },
  {
   "cell_type": "code",
   "execution_count": null,
   "metadata": {},
   "outputs": [],
   "source": []
  },
  {
   "cell_type": "markdown",
   "metadata": {},
   "source": [
    "## Wins"
   ]
  },
  {
   "cell_type": "code",
   "execution_count": 28,
   "metadata": {},
   "outputs": [
    {
     "data": {
      "text/plain": [
       "<matplotlib.axes._subplots.AxesSubplot at 0x1a1e2114f88>"
      ]
     },
     "execution_count": 28,
     "metadata": {},
     "output_type": "execute_result"
    },
    {
     "data": {
      "image/png": "[encoded data removed]",
      "text/plain": [
       "<Figure size 432x288 with 1 Axes>"
      ]
     },
     "metadata": {
      "needs_background": "light"
     },
     "output_type": "display_data"
    }
   ],
   "source": [
    "sns.distplot(data['Wins'])"
   ]
  },
  {
   "cell_type": "code",
   "execution_count": 29,
   "metadata": {},
   "outputs": [
    {
     "data": {
      "text/plain": [
       "<matplotlib.axes._subplots.AxesSubplot at 0x1a1e20f5788>"
      ]
     },
     "execution_count": 29,
     "metadata": {},
     "output_type": "execute_result"
    },
    {
     "data": {
      "image/png": "[encoded data removed]",
      "text/plain": [
       "<Figure size 864x504 with 1 Axes>"
      ]
     },
     "metadata": {
      "needs_background": "light"
     },
     "output_type": "display_data"
    }
   ],
   "source": [
    "plt.figure(figsize=(12,7))\n",
    "sns.barplot(y='Wins',x='year',data=data)"
   ]
  },
  {
   "cell_type": "markdown",
   "metadata": {},
   "source": [
    "According to data 2018,2019,2013,2014 year has high probability of winning !!!"
   ]
  },
  {
   "cell_type": "code",
   "execution_count": 30,
   "metadata": {},
   "outputs": [
    {
     "data": {
      "text/plain": [
       "<matplotlib.axes._subplots.AxesSubplot at 0x1a1e22153c8>"
      ]
     },
     "execution_count": 30,
     "metadata": {},
     "output_type": "execute_result"
    },
    {
     "data": {
      "image/png": "[encoded data removed]",
      "text/plain": [
       "<Figure size 864x504 with 1 Axes>"
      ]
     },
     "metadata": {
      "needs_background": "light"
     },
     "output_type": "display_data"
    }
   ],
   "source": [
    "plt.figure(figsize=(12,7))\n",
    "sns.barplot(y='Wins',x='Rank',data=data)"
   ]
  },
  {
   "cell_type": "markdown",
   "metadata": {},
   "source": [
    "According to rank of player Winning probability increase !!!!"
   ]
  },
  {
   "cell_type": "code",
   "execution_count": 31,
   "metadata": {},
   "outputs": [
    {
     "data": {
      "text/html": [
       "<div>\n",
       "<style scoped>\n",
       "    .dataframe tbody tr th:only-of-type {\n",
       "        vertical-align: middle;\n",
       "    }\n",
       "\n",
       "    .dataframe tbody tr th {\n",
       "        vertical-align: top;\n",
       "    }\n",
       "\n",
       "    .dataframe thead th {\n",
       "        text-align: right;\n",
       "    }\n",
       "</style>\n",
       "<table border=\"1\" class=\"dataframe\">\n",
       "  <thead>\n",
       "    <tr style=\"text-align: right;\">\n",
       "      <th></th>\n",
       "      <th>Rank</th>\n",
       "      <th>Player</th>\n",
       "      <th>Team</th>\n",
       "      <th>RAA</th>\n",
       "      <th>Wins</th>\n",
       "      <th>EFscore</th>\n",
       "      <th>Salary</th>\n",
       "      <th>Value</th>\n",
       "      <th>year</th>\n",
       "    </tr>\n",
       "  </thead>\n",
       "  <tbody>\n",
       "    <tr>\n",
       "      <th>10</th>\n",
       "      <td>11</td>\n",
       "      <td>MS Dhoni</td>\n",
       "      <td>Chennai Super Kings</td>\n",
       "      <td>148</td>\n",
       "      <td>0.532</td>\n",
       "      <td>0.121</td>\n",
       "      <td>1500000</td>\n",
       "      <td>794619</td>\n",
       "      <td>2008</td>\n",
       "    </tr>\n",
       "    <tr>\n",
       "      <th>6</th>\n",
       "      <td>7</td>\n",
       "      <td>MS Dhoni</td>\n",
       "      <td>Chennai Super Kings</td>\n",
       "      <td>143</td>\n",
       "      <td>0.578</td>\n",
       "      <td>0.108</td>\n",
       "      <td>1500000</td>\n",
       "      <td>884907</td>\n",
       "      <td>2009</td>\n",
       "    </tr>\n",
       "    <tr>\n",
       "      <th>22</th>\n",
       "      <td>23</td>\n",
       "      <td>MS Dhoni</td>\n",
       "      <td>Chennai Super Kings</td>\n",
       "      <td>70</td>\n",
       "      <td>0.249</td>\n",
       "      <td>0.076</td>\n",
       "      <td>1500000</td>\n",
       "      <td>662122</td>\n",
       "      <td>2010</td>\n",
       "    </tr>\n",
       "    <tr>\n",
       "      <th>12</th>\n",
       "      <td>13</td>\n",
       "      <td>MS Dhoni</td>\n",
       "      <td>Chennai Super Kings</td>\n",
       "      <td>161</td>\n",
       "      <td>0.596</td>\n",
       "      <td>0.111</td>\n",
       "      <td>1500000</td>\n",
       "      <td>1073368</td>\n",
       "      <td>2011</td>\n",
       "    </tr>\n",
       "    <tr>\n",
       "      <th>23</th>\n",
       "      <td>24</td>\n",
       "      <td>MS Dhoni</td>\n",
       "      <td>Chennai Super Kings</td>\n",
       "      <td>94</td>\n",
       "      <td>0.341</td>\n",
       "      <td>0.089</td>\n",
       "      <td>1500000</td>\n",
       "      <td>902504</td>\n",
       "      <td>2012</td>\n",
       "    </tr>\n",
       "    <tr>\n",
       "      <th>6</th>\n",
       "      <td>7</td>\n",
       "      <td>MS Dhoni</td>\n",
       "      <td>Chennai Super Kings</td>\n",
       "      <td>239</td>\n",
       "      <td>0.924</td>\n",
       "      <td>0.139</td>\n",
       "      <td>3000000</td>\n",
       "      <td>1698054</td>\n",
       "      <td>2013</td>\n",
       "    </tr>\n",
       "    <tr>\n",
       "      <th>1</th>\n",
       "      <td>2</td>\n",
       "      <td>MS Dhoni</td>\n",
       "      <td>Chennai Super Kings</td>\n",
       "      <td>229</td>\n",
       "      <td>0.779</td>\n",
       "      <td>0.143</td>\n",
       "      <td>2083333</td>\n",
       "      <td>1466583</td>\n",
       "      <td>2014</td>\n",
       "    </tr>\n",
       "    <tr>\n",
       "      <th>32</th>\n",
       "      <td>33</td>\n",
       "      <td>MS Dhoni</td>\n",
       "      <td>Chennai Super Kings</td>\n",
       "      <td>53</td>\n",
       "      <td>0.191</td>\n",
       "      <td>0.096</td>\n",
       "      <td>2083333</td>\n",
       "      <td>708340</td>\n",
       "      <td>2015</td>\n",
       "    </tr>\n",
       "    <tr>\n",
       "      <th>18</th>\n",
       "      <td>19</td>\n",
       "      <td>MS Dhoni</td>\n",
       "      <td>Rising Pune Supergiants</td>\n",
       "      <td>111</td>\n",
       "      <td>0.367</td>\n",
       "      <td>0.084</td>\n",
       "      <td>2083333</td>\n",
       "      <td>823273</td>\n",
       "      <td>2016</td>\n",
       "    </tr>\n",
       "    <tr>\n",
       "      <th>49</th>\n",
       "      <td>50</td>\n",
       "      <td>MS Dhoni</td>\n",
       "      <td>Rising Pune Supergiants</td>\n",
       "      <td>27</td>\n",
       "      <td>0.097</td>\n",
       "      <td>0.091</td>\n",
       "      <td>2083333</td>\n",
       "      <td>539814</td>\n",
       "      <td>2017</td>\n",
       "    </tr>\n",
       "    <tr>\n",
       "      <th>4</th>\n",
       "      <td>5</td>\n",
       "      <td>MS Dhoni</td>\n",
       "      <td>Chennai Super Kings</td>\n",
       "      <td>290</td>\n",
       "      <td>1.011</td>\n",
       "      <td>0.167</td>\n",
       "      <td>2343750</td>\n",
       "      <td>2090927</td>\n",
       "      <td>2018</td>\n",
       "    </tr>\n",
       "    <tr>\n",
       "      <th>2</th>\n",
       "      <td>3</td>\n",
       "      <td>MS Dhoni</td>\n",
       "      <td>Chennai Super Kings</td>\n",
       "      <td>305</td>\n",
       "      <td>1.053</td>\n",
       "      <td>0.176</td>\n",
       "      <td>2343750</td>\n",
       "      <td>2189940</td>\n",
       "      <td>2019</td>\n",
       "    </tr>\n",
       "    <tr>\n",
       "      <th>54</th>\n",
       "      <td>55</td>\n",
       "      <td>MS Dhoni</td>\n",
       "      <td>Chennai Super Kings</td>\n",
       "      <td>1</td>\n",
       "      <td>0.005</td>\n",
       "      <td>0.049</td>\n",
       "      <td>2343750</td>\n",
       "      <td>592864</td>\n",
       "      <td>2020</td>\n",
       "    </tr>\n",
       "  </tbody>\n",
       "</table>\n",
       "</div>"
      ],
      "text/plain": [
       "    Rank    Player                     Team  RAA   Wins  EFscore   Salary  \\\n",
       "10    11  MS Dhoni      Chennai Super Kings  148  0.532    0.121  1500000   \n",
       "6      7  MS Dhoni      Chennai Super Kings  143  0.578    0.108  1500000   \n",
       "22    23  MS Dhoni      Chennai Super Kings   70  0.249    0.076  1500000   \n",
       "12    13  MS Dhoni      Chennai Super Kings  161  0.596    0.111  1500000   \n",
       "23    24  MS Dhoni      Chennai Super Kings   94  0.341    0.089  1500000   \n",
       "6      7  MS Dhoni      Chennai Super Kings  239  0.924    0.139  3000000   \n",
       "1      2  MS Dhoni      Chennai Super Kings  229  0.779    0.143  2083333   \n",
       "32    33  MS Dhoni      Chennai Super Kings   53  0.191    0.096  2083333   \n",
       "18    19  MS Dhoni  Rising Pune Supergiants  111  0.367    0.084  2083333   \n",
       "49    50  MS Dhoni  Rising Pune Supergiants   27  0.097    0.091  2083333   \n",
       "4      5  MS Dhoni      Chennai Super Kings  290  1.011    0.167  2343750   \n",
       "2      3  MS Dhoni      Chennai Super Kings  305  1.053    0.176  2343750   \n",
       "54    55  MS Dhoni      Chennai Super Kings    1  0.005    0.049  2343750   \n",
       "\n",
       "      Value  year  \n",
       "10   794619  2008  \n",
       "6    884907  2009  \n",
       "22   662122  2010  \n",
       "12  1073368  2011  \n",
       "23   902504  2012  \n",
       "6   1698054  2013  \n",
       "1   1466583  2014  \n",
       "32   708340  2015  \n",
       "18   823273  2016  \n",
       "49   539814  2017  \n",
       "4   2090927  2018  \n",
       "2   2189940  2019  \n",
       "54   592864  2020  "
      ]
     },
     "execution_count": 31,
     "metadata": {},
     "output_type": "execute_result"
    }
   ],
   "source": [
    "data"
   ]
  },
  {
   "cell_type": "code",
   "execution_count": 32,
   "metadata": {},
   "outputs": [
    {
     "data": {
      "text/plain": [
       "<matplotlib.axes._subplots.AxesSubplot at 0x1a1e258f148>"
      ]
     },
     "execution_count": 32,
     "metadata": {},
     "output_type": "execute_result"
    },
    {
     "data": {
      "image/png": "[encoded data removed]",
      "text/plain": [
       "<Figure size 432x288 with 1 Axes>"
      ]
     },
     "metadata": {
      "needs_background": "light"
     },
     "output_type": "display_data"
    }
   ],
   "source": [
    "sns.scatterplot(x='RAA',y='Wins',data=data,hue='Salary')"
   ]
  },
  {
   "cell_type": "markdown",
   "metadata": {},
   "source": [
    "Wow ... if the Runs Above Average grow up Wining Probability also increase as well as Salary"
   ]
  },
  {
   "cell_type": "code",
   "execution_count": 33,
   "metadata": {},
   "outputs": [
    {
     "data": {
      "text/plain": [
       "<matplotlib.axes._subplots.AxesSubplot at 0x1a1e258bd08>"
      ]
     },
     "execution_count": 33,
     "metadata": {},
     "output_type": "execute_result"
    },
    {
     "data": {
      "image/png": "[encoded data removed]",
      "text/plain": [
       "<Figure size 432x288 with 1 Axes>"
      ]
     },
     "metadata": {
      "needs_background": "light"
     },
     "output_type": "display_data"
    }
   ],
   "source": [
    "sns.scatterplot(x='EFscore',y='Wins',data=data,hue='Salary')"
   ]
  },
  {
   "cell_type": "markdown",
   "metadata": {},
   "source": [
    "According to the Data EFSore increase Win probabilty is also increase it is linear in nature"
   ]
  },
  {
   "cell_type": "markdown",
   "metadata": {},
   "source": [
    "## Salary"
   ]
  },
  {
   "cell_type": "code",
   "execution_count": 34,
   "metadata": {},
   "outputs": [
    {
     "data": {
      "text/plain": [
       "<matplotlib.axes._subplots.AxesSubplot at 0x1a1e293d948>"
      ]
     },
     "execution_count": 34,
     "metadata": {},
     "output_type": "execute_result"
    },
    {
     "data": {
      "image/png": "[encoded data removed]",
      "text/plain": [
       "<Figure size 432x288 with 1 Axes>"
      ]
     },
     "metadata": {
      "needs_background": "light"
     },
     "output_type": "display_data"
    }
   ],
   "source": [
    "sns.distplot(data['Salary'])"
   ]
  },
  {
   "cell_type": "code",
   "execution_count": 35,
   "metadata": {},
   "outputs": [
    {
     "data": {
      "text/plain": [
       "<matplotlib.axes._subplots.AxesSubplot at 0x1a1e29b1688>"
      ]
     },
     "execution_count": 35,
     "metadata": {},
     "output_type": "execute_result"
    },
    {
     "data": {
      "image/png": "[encoded data removed]",
      "text/plain": [
       "<Figure size 720x432 with 1 Axes>"
      ]
     },
     "metadata": {
      "needs_background": "light"
     },
     "output_type": "display_data"
    }
   ],
   "source": [
    "plt.figure(figsize=(10,6))\n",
    "sns.barplot(x='year',y='Salary',data=data)"
   ]
  },
  {
   "cell_type": "markdown",
   "metadata": {},
   "source": [
    "2013 year was a highest paying Salary for MS-Dhoni !!!"
   ]
  },
  {
   "cell_type": "code",
   "execution_count": 36,
   "metadata": {},
   "outputs": [
    {
     "data": {
      "text/plain": [
       "<matplotlib.axes._subplots.AxesSubplot at 0x1a1e2a34d88>"
      ]
     },
     "execution_count": 36,
     "metadata": {},
     "output_type": "execute_result"
    },
    {
     "data": {
      "image/png": "[encoded data removed]",
      "text/plain": [
       "<Figure size 720x432 with 1 Axes>"
      ]
     },
     "metadata": {
      "needs_background": "light"
     },
     "output_type": "display_data"
    }
   ],
   "source": [
    "plt.figure(figsize=(10,6))\n",
    "sns.barplot(x='year',y='Salary',data=data,hue='Team')"
   ]
  },
  {
   "cell_type": "markdown",
   "metadata": {},
   "source": [
    "In 2016,2017 he played in another team"
   ]
  },
  {
   "cell_type": "code",
   "execution_count": 37,
   "metadata": {},
   "outputs": [
    {
     "data": {
      "text/html": [
       "<div>\n",
       "<style scoped>\n",
       "    .dataframe tbody tr th:only-of-type {\n",
       "        vertical-align: middle;\n",
       "    }\n",
       "\n",
       "    .dataframe tbody tr th {\n",
       "        vertical-align: top;\n",
       "    }\n",
       "\n",
       "    .dataframe thead th {\n",
       "        text-align: right;\n",
       "    }\n",
       "</style>\n",
       "<table border=\"1\" class=\"dataframe\">\n",
       "  <thead>\n",
       "    <tr style=\"text-align: right;\">\n",
       "      <th></th>\n",
       "      <th>Rank</th>\n",
       "      <th>Player</th>\n",
       "      <th>Team</th>\n",
       "      <th>RAA</th>\n",
       "      <th>Wins</th>\n",
       "      <th>EFscore</th>\n",
       "      <th>Salary</th>\n",
       "      <th>Value</th>\n",
       "      <th>year</th>\n",
       "    </tr>\n",
       "  </thead>\n",
       "  <tbody>\n",
       "    <tr>\n",
       "      <th>6</th>\n",
       "      <td>7</td>\n",
       "      <td>MS Dhoni</td>\n",
       "      <td>Chennai Super Kings</td>\n",
       "      <td>239</td>\n",
       "      <td>0.924</td>\n",
       "      <td>0.139</td>\n",
       "      <td>3000000</td>\n",
       "      <td>1698054</td>\n",
       "      <td>2013</td>\n",
       "    </tr>\n",
       "  </tbody>\n",
       "</table>\n",
       "</div>"
      ],
      "text/plain": [
       "   Rank    Player                 Team  RAA   Wins  EFscore   Salary    Value  \\\n",
       "6     7  MS Dhoni  Chennai Super Kings  239  0.924    0.139  3000000  1698054   \n",
       "\n",
       "   year  \n",
       "6  2013  "
      ]
     },
     "execution_count": 37,
     "metadata": {},
     "output_type": "execute_result"
    }
   ],
   "source": [
    "data[data['Salary']==data['Salary'].max()]"
   ]
  },
  {
   "cell_type": "code",
   "execution_count": 38,
   "metadata": {},
   "outputs": [
    {
     "data": {
      "text/html": [
       "<div>\n",
       "<style scoped>\n",
       "    .dataframe tbody tr th:only-of-type {\n",
       "        vertical-align: middle;\n",
       "    }\n",
       "\n",
       "    .dataframe tbody tr th {\n",
       "        vertical-align: top;\n",
       "    }\n",
       "\n",
       "    .dataframe thead th {\n",
       "        text-align: right;\n",
       "    }\n",
       "</style>\n",
       "<table border=\"1\" class=\"dataframe\">\n",
       "  <thead>\n",
       "    <tr style=\"text-align: right;\">\n",
       "      <th></th>\n",
       "      <th>Rank</th>\n",
       "      <th>Player</th>\n",
       "      <th>Team</th>\n",
       "      <th>RAA</th>\n",
       "      <th>Wins</th>\n",
       "      <th>EFscore</th>\n",
       "      <th>Salary</th>\n",
       "      <th>Value</th>\n",
       "      <th>year</th>\n",
       "    </tr>\n",
       "  </thead>\n",
       "  <tbody>\n",
       "    <tr>\n",
       "      <th>10</th>\n",
       "      <td>11</td>\n",
       "      <td>MS Dhoni</td>\n",
       "      <td>Chennai Super Kings</td>\n",
       "      <td>148</td>\n",
       "      <td>0.532</td>\n",
       "      <td>0.121</td>\n",
       "      <td>1500000</td>\n",
       "      <td>794619</td>\n",
       "      <td>2008</td>\n",
       "    </tr>\n",
       "    <tr>\n",
       "      <th>6</th>\n",
       "      <td>7</td>\n",
       "      <td>MS Dhoni</td>\n",
       "      <td>Chennai Super Kings</td>\n",
       "      <td>143</td>\n",
       "      <td>0.578</td>\n",
       "      <td>0.108</td>\n",
       "      <td>1500000</td>\n",
       "      <td>884907</td>\n",
       "      <td>2009</td>\n",
       "    </tr>\n",
       "    <tr>\n",
       "      <th>22</th>\n",
       "      <td>23</td>\n",
       "      <td>MS Dhoni</td>\n",
       "      <td>Chennai Super Kings</td>\n",
       "      <td>70</td>\n",
       "      <td>0.249</td>\n",
       "      <td>0.076</td>\n",
       "      <td>1500000</td>\n",
       "      <td>662122</td>\n",
       "      <td>2010</td>\n",
       "    </tr>\n",
       "    <tr>\n",
       "      <th>12</th>\n",
       "      <td>13</td>\n",
       "      <td>MS Dhoni</td>\n",
       "      <td>Chennai Super Kings</td>\n",
       "      <td>161</td>\n",
       "      <td>0.596</td>\n",
       "      <td>0.111</td>\n",
       "      <td>1500000</td>\n",
       "      <td>1073368</td>\n",
       "      <td>2011</td>\n",
       "    </tr>\n",
       "    <tr>\n",
       "      <th>23</th>\n",
       "      <td>24</td>\n",
       "      <td>MS Dhoni</td>\n",
       "      <td>Chennai Super Kings</td>\n",
       "      <td>94</td>\n",
       "      <td>0.341</td>\n",
       "      <td>0.089</td>\n",
       "      <td>1500000</td>\n",
       "      <td>902504</td>\n",
       "      <td>2012</td>\n",
       "    </tr>\n",
       "  </tbody>\n",
       "</table>\n",
       "</div>"
      ],
      "text/plain": [
       "    Rank    Player                 Team  RAA   Wins  EFscore   Salary  \\\n",
       "10    11  MS Dhoni  Chennai Super Kings  148  0.532    0.121  1500000   \n",
       "6      7  MS Dhoni  Chennai Super Kings  143  0.578    0.108  1500000   \n",
       "22    23  MS Dhoni  Chennai Super Kings   70  0.249    0.076  1500000   \n",
       "12    13  MS Dhoni  Chennai Super Kings  161  0.596    0.111  1500000   \n",
       "23    24  MS Dhoni  Chennai Super Kings   94  0.341    0.089  1500000   \n",
       "\n",
       "      Value  year  \n",
       "10   794619  2008  \n",
       "6    884907  2009  \n",
       "22   662122  2010  \n",
       "12  1073368  2011  \n",
       "23   902504  2012  "
      ]
     },
     "execution_count": 38,
     "metadata": {},
     "output_type": "execute_result"
    }
   ],
   "source": [
    "data[data['Salary']==data['Salary'].min()]"
   ]
  },
  {
   "cell_type": "code",
   "execution_count": 39,
   "metadata": {},
   "outputs": [
    {
     "data": {
      "text/plain": [
       "<matplotlib.axes._subplots.AxesSubplot at 0x1a1e2b59dc8>"
      ]
     },
     "execution_count": 39,
     "metadata": {},
     "output_type": "execute_result"
    },
    {
     "data": {
      "image/png": "[encoded data removed]",
      "text/plain": [
       "<Figure size 864x432 with 1 Axes>"
      ]
     },
     "metadata": {
      "needs_background": "light"
     },
     "output_type": "display_data"
    }
   ],
   "source": [
    "plt.figure(figsize=(12,6))\n",
    "sns.scatterplot('Salary','Value',data=data)"
   ]
  },
  {
   "cell_type": "code",
   "execution_count": null,
   "metadata": {},
   "outputs": [],
   "source": []
  },
  {
   "cell_type": "markdown",
   "metadata": {},
   "source": [
    "## Value"
   ]
  },
  {
   "cell_type": "code",
   "execution_count": 40,
   "metadata": {},
   "outputs": [
    {
     "data": {
      "text/plain": [
       "<matplotlib.axes._subplots.AxesSubplot at 0x1a1e2be9908>"
      ]
     },
     "execution_count": 40,
     "metadata": {},
     "output_type": "execute_result"
    },
    {
     "data": {
      "image/png": "[encoded data removed]",
      "text/plain": [
       "<Figure size 720x432 with 1 Axes>"
      ]
     },
     "metadata": {
      "needs_background": "light"
     },
     "output_type": "display_data"
    }
   ],
   "source": [
    "plt.figure(figsize=(10,6))\n",
    "sns.barplot(x='year',y='Value',data=data)"
   ]
  },
  {
   "cell_type": "markdown",
   "metadata": {},
   "source": [
    "2018-2019 values of MS-Dhoni was very huge !!!"
   ]
  },
  {
   "cell_type": "code",
   "execution_count": 41,
   "metadata": {},
   "outputs": [
    {
     "data": {
      "text/plain": [
       "<matplotlib.axes._subplots.AxesSubplot at 0x1a1e2b4bcc8>"
      ]
     },
     "execution_count": 41,
     "metadata": {},
     "output_type": "execute_result"
    },
    {
     "data": {
      "image/png": "[encoded data removed]",
      "text/plain": [
       "<Figure size 720x432 with 1 Axes>"
      ]
     },
     "metadata": {
      "needs_background": "light"
     },
     "output_type": "display_data"
    }
   ],
   "source": [
    "plt.figure(figsize=(10,6))\n",
    "sns.barplot(x='year',y='Value',data=data,hue='Team')"
   ]
  },
  {
   "cell_type": "markdown",
   "metadata": {},
   "source": [
    "In Chennai Team he has hightest value"
   ]
  },
  {
   "cell_type": "code",
   "execution_count": 42,
   "metadata": {},
   "outputs": [
    {
     "data": {
      "text/html": [
       "<div>\n",
       "<style scoped>\n",
       "    .dataframe tbody tr th:only-of-type {\n",
       "        vertical-align: middle;\n",
       "    }\n",
       "\n",
       "    .dataframe tbody tr th {\n",
       "        vertical-align: top;\n",
       "    }\n",
       "\n",
       "    .dataframe thead th {\n",
       "        text-align: right;\n",
       "    }\n",
       "</style>\n",
       "<table border=\"1\" class=\"dataframe\">\n",
       "  <thead>\n",
       "    <tr style=\"text-align: right;\">\n",
       "      <th></th>\n",
       "      <th>Rank</th>\n",
       "      <th>Player</th>\n",
       "      <th>Team</th>\n",
       "      <th>RAA</th>\n",
       "      <th>Wins</th>\n",
       "      <th>EFscore</th>\n",
       "      <th>Salary</th>\n",
       "      <th>Value</th>\n",
       "      <th>year</th>\n",
       "    </tr>\n",
       "  </thead>\n",
       "  <tbody>\n",
       "    <tr>\n",
       "      <th>10</th>\n",
       "      <td>11</td>\n",
       "      <td>MS Dhoni</td>\n",
       "      <td>Chennai Super Kings</td>\n",
       "      <td>148</td>\n",
       "      <td>0.532</td>\n",
       "      <td>0.121</td>\n",
       "      <td>1500000</td>\n",
       "      <td>794619</td>\n",
       "      <td>2008</td>\n",
       "    </tr>\n",
       "    <tr>\n",
       "      <th>6</th>\n",
       "      <td>7</td>\n",
       "      <td>MS Dhoni</td>\n",
       "      <td>Chennai Super Kings</td>\n",
       "      <td>143</td>\n",
       "      <td>0.578</td>\n",
       "      <td>0.108</td>\n",
       "      <td>1500000</td>\n",
       "      <td>884907</td>\n",
       "      <td>2009</td>\n",
       "    </tr>\n",
       "    <tr>\n",
       "      <th>22</th>\n",
       "      <td>23</td>\n",
       "      <td>MS Dhoni</td>\n",
       "      <td>Chennai Super Kings</td>\n",
       "      <td>70</td>\n",
       "      <td>0.249</td>\n",
       "      <td>0.076</td>\n",
       "      <td>1500000</td>\n",
       "      <td>662122</td>\n",
       "      <td>2010</td>\n",
       "    </tr>\n",
       "    <tr>\n",
       "      <th>12</th>\n",
       "      <td>13</td>\n",
       "      <td>MS Dhoni</td>\n",
       "      <td>Chennai Super Kings</td>\n",
       "      <td>161</td>\n",
       "      <td>0.596</td>\n",
       "      <td>0.111</td>\n",
       "      <td>1500000</td>\n",
       "      <td>1073368</td>\n",
       "      <td>2011</td>\n",
       "    </tr>\n",
       "    <tr>\n",
       "      <th>23</th>\n",
       "      <td>24</td>\n",
       "      <td>MS Dhoni</td>\n",
       "      <td>Chennai Super Kings</td>\n",
       "      <td>94</td>\n",
       "      <td>0.341</td>\n",
       "      <td>0.089</td>\n",
       "      <td>1500000</td>\n",
       "      <td>902504</td>\n",
       "      <td>2012</td>\n",
       "    </tr>\n",
       "    <tr>\n",
       "      <th>6</th>\n",
       "      <td>7</td>\n",
       "      <td>MS Dhoni</td>\n",
       "      <td>Chennai Super Kings</td>\n",
       "      <td>239</td>\n",
       "      <td>0.924</td>\n",
       "      <td>0.139</td>\n",
       "      <td>3000000</td>\n",
       "      <td>1698054</td>\n",
       "      <td>2013</td>\n",
       "    </tr>\n",
       "    <tr>\n",
       "      <th>1</th>\n",
       "      <td>2</td>\n",
       "      <td>MS Dhoni</td>\n",
       "      <td>Chennai Super Kings</td>\n",
       "      <td>229</td>\n",
       "      <td>0.779</td>\n",
       "      <td>0.143</td>\n",
       "      <td>2083333</td>\n",
       "      <td>1466583</td>\n",
       "      <td>2014</td>\n",
       "    </tr>\n",
       "    <tr>\n",
       "      <th>32</th>\n",
       "      <td>33</td>\n",
       "      <td>MS Dhoni</td>\n",
       "      <td>Chennai Super Kings</td>\n",
       "      <td>53</td>\n",
       "      <td>0.191</td>\n",
       "      <td>0.096</td>\n",
       "      <td>2083333</td>\n",
       "      <td>708340</td>\n",
       "      <td>2015</td>\n",
       "    </tr>\n",
       "    <tr>\n",
       "      <th>18</th>\n",
       "      <td>19</td>\n",
       "      <td>MS Dhoni</td>\n",
       "      <td>Rising Pune Supergiants</td>\n",
       "      <td>111</td>\n",
       "      <td>0.367</td>\n",
       "      <td>0.084</td>\n",
       "      <td>2083333</td>\n",
       "      <td>823273</td>\n",
       "      <td>2016</td>\n",
       "    </tr>\n",
       "    <tr>\n",
       "      <th>49</th>\n",
       "      <td>50</td>\n",
       "      <td>MS Dhoni</td>\n",
       "      <td>Rising Pune Supergiants</td>\n",
       "      <td>27</td>\n",
       "      <td>0.097</td>\n",
       "      <td>0.091</td>\n",
       "      <td>2083333</td>\n",
       "      <td>539814</td>\n",
       "      <td>2017</td>\n",
       "    </tr>\n",
       "    <tr>\n",
       "      <th>4</th>\n",
       "      <td>5</td>\n",
       "      <td>MS Dhoni</td>\n",
       "      <td>Chennai Super Kings</td>\n",
       "      <td>290</td>\n",
       "      <td>1.011</td>\n",
       "      <td>0.167</td>\n",
       "      <td>2343750</td>\n",
       "      <td>2090927</td>\n",
       "      <td>2018</td>\n",
       "    </tr>\n",
       "    <tr>\n",
       "      <th>2</th>\n",
       "      <td>3</td>\n",
       "      <td>MS Dhoni</td>\n",
       "      <td>Chennai Super Kings</td>\n",
       "      <td>305</td>\n",
       "      <td>1.053</td>\n",
       "      <td>0.176</td>\n",
       "      <td>2343750</td>\n",
       "      <td>2189940</td>\n",
       "      <td>2019</td>\n",
       "    </tr>\n",
       "    <tr>\n",
       "      <th>54</th>\n",
       "      <td>55</td>\n",
       "      <td>MS Dhoni</td>\n",
       "      <td>Chennai Super Kings</td>\n",
       "      <td>1</td>\n",
       "      <td>0.005</td>\n",
       "      <td>0.049</td>\n",
       "      <td>2343750</td>\n",
       "      <td>592864</td>\n",
       "      <td>2020</td>\n",
       "    </tr>\n",
       "  </tbody>\n",
       "</table>\n",
       "</div>"
      ],
      "text/plain": [
       "    Rank    Player                     Team  RAA   Wins  EFscore   Salary  \\\n",
       "10    11  MS Dhoni      Chennai Super Kings  148  0.532    0.121  1500000   \n",
       "6      7  MS Dhoni      Chennai Super Kings  143  0.578    0.108  1500000   \n",
       "22    23  MS Dhoni      Chennai Super Kings   70  0.249    0.076  1500000   \n",
       "12    13  MS Dhoni      Chennai Super Kings  161  0.596    0.111  1500000   \n",
       "23    24  MS Dhoni      Chennai Super Kings   94  0.341    0.089  1500000   \n",
       "6      7  MS Dhoni      Chennai Super Kings  239  0.924    0.139  3000000   \n",
       "1      2  MS Dhoni      Chennai Super Kings  229  0.779    0.143  2083333   \n",
       "32    33  MS Dhoni      Chennai Super Kings   53  0.191    0.096  2083333   \n",
       "18    19  MS Dhoni  Rising Pune Supergiants  111  0.367    0.084  2083333   \n",
       "49    50  MS Dhoni  Rising Pune Supergiants   27  0.097    0.091  2083333   \n",
       "4      5  MS Dhoni      Chennai Super Kings  290  1.011    0.167  2343750   \n",
       "2      3  MS Dhoni      Chennai Super Kings  305  1.053    0.176  2343750   \n",
       "54    55  MS Dhoni      Chennai Super Kings    1  0.005    0.049  2343750   \n",
       "\n",
       "      Value  year  \n",
       "10   794619  2008  \n",
       "6    884907  2009  \n",
       "22   662122  2010  \n",
       "12  1073368  2011  \n",
       "23   902504  2012  \n",
       "6   1698054  2013  \n",
       "1   1466583  2014  \n",
       "32   708340  2015  \n",
       "18   823273  2016  \n",
       "49   539814  2017  \n",
       "4   2090927  2018  \n",
       "2   2189940  2019  \n",
       "54   592864  2020  "
      ]
     },
     "execution_count": 42,
     "metadata": {},
     "output_type": "execute_result"
    }
   ],
   "source": [
    "data"
   ]
  },
  {
   "cell_type": "code",
   "execution_count": 43,
   "metadata": {},
   "outputs": [
    {
     "data": {
      "text/plain": [
       "<matplotlib.axes._subplots.AxesSubplot at 0x1a1e1bec088>"
      ]
     },
     "execution_count": 43,
     "metadata": {},
     "output_type": "execute_result"
    },
    {
     "data": {
      "image/png": "[encoded data removed]",
      "text/plain": [
       "<Figure size 432x288 with 1 Axes>"
      ]
     },
     "metadata": {
      "needs_background": "light"
     },
     "output_type": "display_data"
    }
   ],
   "source": [
    "sns.scatterplot(y='Value',x='Wins',data=data)"
   ]
  },
  {
   "cell_type": "markdown",
   "metadata": {},
   "source": [
    "According to the data Wins probability increase Value of Ms-Dhoni increase it is linear in nature"
   ]
  },
  {
   "cell_type": "markdown",
   "metadata": {},
   "source": [
    "## HeatMap"
   ]
  },
  {
   "cell_type": "code",
   "execution_count": 44,
   "metadata": {},
   "outputs": [
    {
     "data": {
      "text/plain": [
       "<matplotlib.axes._subplots.AxesSubplot at 0x1a1e2c11348>"
      ]
     },
     "execution_count": 44,
     "metadata": {},
     "output_type": "execute_result"
    },
    {
     "data": {
      "image/png": "[encoded data removed]",
      "text/plain": [
       "<Figure size 864x576 with 2 Axes>"
      ]
     },
     "metadata": {
      "needs_background": "light"
     },
     "output_type": "display_data"
    }
   ],
   "source": [
    "plt.figure(figsize=(12,8))\n",
    "sns.heatmap(data.corr(),annot=True)"
   ]
  },
  {
   "cell_type": "code",
   "execution_count": 46,
   "metadata": {},
   "outputs": [
    {
     "data": {
      "text/plain": [
       "<seaborn.matrix.ClusterGrid at 0x1a1e1bc7988>"
      ]
     },
     "execution_count": 46,
     "metadata": {},
     "output_type": "execute_result"
    },
    {
     "data": {
      "image/png": "[encoded data removed]",
      "text/plain": [
       "<Figure size 720x720 with 4 Axes>"
      ]
     },
     "metadata": {
      "needs_background": "light"
     },
     "output_type": "display_data"
    }
   ],
   "source": [
    "sns.clustermap(data.corr()) "
   ]
  },
  {
   "cell_type": "code",
   "execution_count": 47,
   "metadata": {},
   "outputs": [
    {
     "data": {
      "text/plain": [
       "<seaborn.axisgrid.PairGrid at 0x1a1e616bac8>"
      ]
     },
     "execution_count": 47,
     "metadata": {},
     "output_type": "execute_result"
    },
    {
     "data": {
      "image/png": "[encoded data removed]",
      "text/plain": [
       "<Figure size 1260x1260 with 56 Axes>"
      ]
     },
     "metadata": {
      "needs_background": "light"
     },
     "output_type": "display_data"
    }
   ],
   "source": [
    "sns.pairplot(data)"
   ]
  },
  {
   "cell_type": "markdown",
   "metadata": {},
   "source": [
    "# Thankyou !!! "
   ]
  },
  {
   "cell_type": "code",
   "execution_count": null,
   "metadata": {},
   "outputs": [],
   "source": []
  }
 ],
 "metadata": {
  "kernelspec": {
   "display_name": "Python 3",
   "language": "python",
   "name": "python3"
  },
  "language_info": {
   "codemirror_mode": {
    "name": "ipython",
    "version": 3
   },
   "file_extension": ".py",
   "mimetype": "text/x-python",
   "name": "python",
   "nbconvert_exporter": "python",
   "pygments_lexer": "ipython3",
   "version": "3.7.6"
  }
 },
 "nbformat": 4,
 "nbformat_minor": 4
}
